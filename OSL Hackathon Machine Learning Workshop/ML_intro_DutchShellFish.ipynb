{
  "nbformat": 4,
  "nbformat_minor": 0,
  "metadata": {
    "colab": {
      "name": "ML_intro_DutchShellFish.ipynb",
      "version": "0.3.2",
      "provenance": [],
      "collapsed_sections": []
    },
    "kernelspec": {
      "name": "python3",
      "display_name": "Python 3"
    }
  },
  "cells": [
    {
      "cell_type": "markdown",
      "metadata": {
        "id": "LLX2X2KqVsl6",
        "colab_type": "text"
      },
      "source": [
        "# EMODnet workshop on machine learning"
      ]
    },
    {
      "cell_type": "markdown",
      "metadata": {
        "colab_type": "text",
        "id": "GJBs_flRovLc"
      },
      "source": [
        "## Getting Started\n",
        "\n",
        "The document you are reading is a  [Jupyter notebook](https://jupyter.org/), hosted in Colaboratory. It is not a static page, but an interactive environment that lets you write and execute code in Python and other languages.\n",
        "\n",
        "For example, here is a **code cell** with a short Python script that computes a value, stores it in a variable, and prints the result:"
      ]
    },
    {
      "cell_type": "code",
      "metadata": {
        "colab_type": "code",
        "id": "gJr_9dXGpJ05",
        "outputId": "6cc9ba17-a11e-4f8b-a94e-c4a2b2bee4a8",
        "colab": {
          "base_uri": "https://localhost:8080/",
          "height": 34
        }
      },
      "source": [
        "seconds_in_a_day = 24 * 60 * 60\n",
        "seconds_in_a_day"
      ],
      "execution_count": 0,
      "outputs": [
        {
          "output_type": "execute_result",
          "data": {
            "text/plain": [
              "86400"
            ]
          },
          "metadata": {
            "tags": []
          },
          "execution_count": 1
        }
      ]
    },
    {
      "cell_type": "markdown",
      "metadata": {
        "colab_type": "text",
        "id": "2fhs6GZ4qFMx"
      },
      "source": [
        "To execute the code in the above cell, select it with a click and then either press the play button to the left of the code, or use the keyboard shortcut \"Command/Ctrl+Enter\".\n",
        "\n",
        "All cells modify the same global state, so variables that you define by executing a cell can be used in other cells:"
      ]
    },
    {
      "cell_type": "code",
      "metadata": {
        "colab_type": "code",
        "id": "-gE-Ez1qtyIA",
        "outputId": "027661c2-9854-4c4c-8cba-1a50729e871d",
        "colab": {
          "base_uri": "https://localhost:8080/",
          "height": 34
        }
      },
      "source": [
        "seconds_in_a_week = 7 * seconds_in_a_day\n",
        "seconds_in_a_week"
      ],
      "execution_count": 0,
      "outputs": [
        {
          "output_type": "execute_result",
          "data": {
            "text/plain": [
              "604800"
            ]
          },
          "metadata": {
            "tags": []
          },
          "execution_count": 2
        }
      ]
    },
    {
      "cell_type": "markdown",
      "metadata": {
        "id": "2h6A2gfMubRf",
        "colab_type": "text"
      },
      "source": [
        "## Introduction"
      ]
    },
    {
      "cell_type": "markdown",
      "metadata": {
        "id": "UJ4YJYHwuGq8",
        "colab_type": "text"
      },
      "source": [
        "Let's implement some machine learning techniques to perform classification and regression.\n",
        "I have prepared a dataset for you, describing some shellfish habitat locations on the Dutch coast."
      ]
    },
    {
      "cell_type": "markdown",
      "metadata": {
        "id": "6rikOsS4uxsI",
        "colab_type": "text"
      },
      "source": [
        "We first import some packages to facilitate data manipulation and plotting.\n",
        "We will be using `pandas` dataframes. For plotting, we will use `matplotlib` and `seaborn`. Throughout the text, you will encounter some more import statements. I could have included them all here, but I prefer to keep them close to where we first use them, so you can easily know what to google for inspiration or more explanation."
      ]
    },
    {
      "cell_type": "code",
      "metadata": {
        "id": "n3TDojlMz6Sh",
        "colab_type": "code",
        "colab": {}
      },
      "source": [
        "import numpy as np\n",
        "import pandas as pd\n",
        "import matplotlib.pyplot as plt\n",
        "import seaborn as sns"
      ],
      "execution_count": 0,
      "outputs": []
    },
    {
      "cell_type": "markdown",
      "metadata": {
        "id": "EkIrN8CQvLfP",
        "colab_type": "text"
      },
      "source": [
        "I have prepared different datasets. The datasets consist of 20 000 samples, but differ in the number of classes they contain. This will make the classification easier or harder (as good as impossible).\n",
        "\n",
        "Datsets are publicly hosted at gist.github.com."
      ]
    },
    {
      "cell_type": "markdown",
      "metadata": {
        "id": "3WZGd9J4vq8q",
        "colab_type": "text"
      },
      "source": [
        "Uncomment one `url` below to choose your dataset.\n",
        "Best to start with the small 3 classes dataset first."
      ]
    },
    {
      "cell_type": "code",
      "metadata": {
        "id": "trHN43K3z84B",
        "colab_type": "code",
        "outputId": "48e7bb1f-3a92-4d71-a1fb-a06f3fb9a532",
        "colab": {
          "base_uri": "https://localhost:8080/",
          "height": 198
        }
      },
      "source": [
        "# Small many classes dataset\n",
        "#url = 'https://gist.githubusercontent.com/dvorkbod/1c50ff0091b7bbd3e9e8cb8f2a2800fd/raw/16ed8f92e493c2fa5e22867b45556c8b66d544dc/DutchShellFish_restricted_manyclasses.csv'\n",
        "\n",
        "# Tiny many classes dataset\n",
        "#url = 'https://gist.githubusercontent.com/dvorkbod/1c50ff0091b7bbd3e9e8cb8f2a2800fd/raw/16ed8f92e493c2fa5e22867b45556c8b66d544dc/DutchShellFish_restricted_tinysample.csv'\n",
        "\n",
        "# Small 7 classes dataset\n",
        "#url = 'https://gist.githubusercontent.com/dvorkbod/1c50ff0091b7bbd3e9e8cb8f2a2800fd/raw/16ed8f92e493c2fa5e22867b45556c8b66d544dc/DutchShellFish_restricted_7classes.csv'\n",
        "\n",
        "# Small 5 classes dataset\n",
        "#url = 'https://gist.githubusercontent.com/dvorkbod/1c50ff0091b7bbd3e9e8cb8f2a2800fd/raw/16ed8f92e493c2fa5e22867b45556c8b66d544dc/DutchShellFish_restricted_5classes.csv'\n",
        "\n",
        "# Small 3 classes dataset\n",
        "url = 'https://gist.githubusercontent.com/dvorkbod/433cc731c5d497d1db6140225361dbdb/raw/4fb2d10a5bb782c3f643315d6d5fb487964b1367/DutchShellFish_restricted_3classes.csv'\n",
        "\n",
        "# Tiny 3 classes dataset\n",
        "#url = 'https://gist.githubusercontent.com/dvorkbod/433cc731c5d497d1db6140225361dbdb/raw/4fb2d10a5bb782c3f643315d6d5fb487964b1367/DutchShellFish_restricted_3classes_tiny.csv'\n",
        "\n",
        "class_df = pd.read_csv(url)"
      ],
      "execution_count": 0,
      "outputs": [
        {
          "output_type": "error",
          "ename": "NameError",
          "evalue": "ignored",
          "traceback": [
            "\u001b[0;31m---------------------------------------------------------------------------\u001b[0m",
            "\u001b[0;31mNameError\u001b[0m                                 Traceback (most recent call last)",
            "\u001b[0;32m<ipython-input-1-50755b92b673>\u001b[0m in \u001b[0;36m<module>\u001b[0;34m()\u001b[0m\n\u001b[1;32m      4\u001b[0m \u001b[0;31m#url = 'https://gist.githubusercontent.com/dvorkbod/433cc731c5d497d1db6140225361dbdb/raw/4fb2d10a5bb782c3f643315d6d5fb487964b1367/DutchShellFish_restricted_3classes_tiny.csv'\u001b[0m\u001b[0;34m\u001b[0m\u001b[0;34m\u001b[0m\u001b[0;34m\u001b[0m\u001b[0m\n\u001b[1;32m      5\u001b[0m \u001b[0;34m\u001b[0m\u001b[0m\n\u001b[0;32m----> 6\u001b[0;31m \u001b[0mclass_df\u001b[0m \u001b[0;34m=\u001b[0m \u001b[0mpd\u001b[0m\u001b[0;34m.\u001b[0m\u001b[0mread_csv\u001b[0m\u001b[0;34m(\u001b[0m\u001b[0murl\u001b[0m\u001b[0;34m)\u001b[0m\u001b[0;34m\u001b[0m\u001b[0;34m\u001b[0m\u001b[0m\n\u001b[0m",
            "\u001b[0;31mNameError\u001b[0m: name 'pd' is not defined"
          ]
        }
      ]
    },
    {
      "cell_type": "markdown",
      "metadata": {
        "id": "kmq3GeO6y-ud",
        "colab_type": "text"
      },
      "source": [
        "## First look at the data"
      ]
    },
    {
      "cell_type": "markdown",
      "metadata": {
        "id": "TRea8LxfwLK4",
        "colab_type": "text"
      },
      "source": [
        "Now that we have picked a dataset, let's take a look at the column names. These are the *features* of the objects in the dataset, as well as the *class* of the object."
      ]
    },
    {
      "cell_type": "code",
      "metadata": {
        "id": "ZzN7miGuW7mj",
        "colab_type": "code",
        "outputId": "9620cbab-ea20-4e3f-cd5f-0f88da2c7c89",
        "colab": {
          "base_uri": "https://localhost:8080/",
          "height": 119
        }
      },
      "source": [
        "class_df.columns"
      ],
      "execution_count": 0,
      "outputs": [
        {
          "output_type": "execute_result",
          "data": {
            "text/plain": [
              "Index(['datecollected', 'yearcollected', 'monthcollected', 'decimallongitude',\n",
              "       'decimallatitude', 'Bedabundance', 'fishing', 'bathy', 'BO_phosphate',\n",
              "       'BO_nitrate', 'BO_salinity', 'BO_sstmax', 'BO_sstmean', 'BO_dissox',\n",
              "       'BO2_curvelmax_bdmax', 'BO2_lightbotmax_bdmax', 'coastdist',\n",
              "       'substrate', 'scientificname'],\n",
              "      dtype='object')"
            ]
          },
          "metadata": {
            "tags": []
          },
          "execution_count": 5
        }
      ]
    },
    {
      "cell_type": "markdown",
      "metadata": {
        "id": "eH5IOuSYwVfF",
        "colab_type": "text"
      },
      "source": [
        "The `scientificname` is the name of the shellfish observed at the given longitude and latitude.\n",
        "The remainding indicators describe the seawater conditions at that location, as well as the fishing intensity.\n",
        "More to the point, we have:\n",
        "\n",
        "* datecollected, monthcollected: YMD and month of sampling\n",
        "* decimallongitude, decimallatitude: location of sampling\n",
        "* Bedabundance: count of individuals per m² (#/m^2)\n",
        "* fishing: fishing intensity (average number of hours spent by Fishing ships in a square kilometre over a month)\n",
        "* bathy: bathymetry information\n",
        "* BO_phosphate, BO_nitrate, BO_salinity: environmental layers: phosphate, nitrate, salinity\n",
        "* BO_sstmax, BO_sstmean: : max and mean sea surface temperature\n",
        "* BO_dissox: dissolved oxygen\n",
        "* BO2_curvelmax_bdmax: Current velocity (maximum at max depth)\n",
        "* BO2_lightbotmax_bdmax: Light at bottom (maximum at max depth)\n",
        "* coastdist: distance to the coast in meters\n",
        "* substrate: type of substrate\n",
        "* scientificname: species"
      ]
    },
    {
      "cell_type": "markdown",
      "metadata": {
        "id": "Hnbu9316xX5n",
        "colab_type": "text"
      },
      "source": [
        "We can observe class distributions by plotting the number of times each `scientificname` is present in the dataset."
      ]
    },
    {
      "cell_type": "markdown",
      "metadata": {
        "id": "cZ3pwXhPycxK",
        "colab_type": "text"
      },
      "source": [
        "Let's create `label_id` to refer to `scientificname`. That way, if we later want to classify something else, we have to adjust our code in only one location."
      ]
    },
    {
      "cell_type": "code",
      "metadata": {
        "id": "VU9XHeYXyUhO",
        "colab_type": "code",
        "colab": {}
      },
      "source": [
        "label_id = 'scientificname'"
      ],
      "execution_count": 0,
      "outputs": []
    },
    {
      "cell_type": "code",
      "metadata": {
        "id": "s0tON_k90Did",
        "colab_type": "code",
        "outputId": "d8ba5785-0f89-436b-cdd1-d68cb27ea1ee",
        "colab": {
          "base_uri": "https://localhost:8080/",
          "height": 295
        }
      },
      "source": [
        "unique, counts = np.unique(class_df[label_id], return_counts=True)\n",
        "\n",
        "plt.bar(unique, counts, 1)\n",
        "plt.title('Class Frequency')\n",
        "plt.xlabel('Class')\n",
        "plt.ylabel('Frequency')\n",
        "plt.show()"
      ],
      "execution_count": 0,
      "outputs": [
        {
          "output_type": "display_data",
          "data": {
            "image/png": "[encoded data removed]",
            "text/plain": [
              "<Figure size 432x288 with 1 Axes>"
            ]
          },
          "metadata": {
            "tags": []
          }
        }
      ]
    },
    {
      "cell_type": "markdown",
      "metadata": {
        "id": "X-nmOZrwyxWm",
        "colab_type": "text"
      },
      "source": [
        "In the three-class dataset, we have one class that is more prevalent, and two that are about equally common."
      ]
    },
    {
      "cell_type": "markdown",
      "metadata": {
        "id": "Z3GTrmLdy5Qk",
        "colab_type": "text"
      },
      "source": [
        "#### Consider plotting the substrate distribution as well. You can repurpose the code from above!"
      ]
    },
    {
      "cell_type": "markdown",
      "metadata": {
        "id": "tRsHeXqq0TlG",
        "colab_type": "text"
      },
      "source": [
        "## Correlation of descriptors"
      ]
    },
    {
      "cell_type": "markdown",
      "metadata": {
        "id": "XZ2vhTlY0ZJn",
        "colab_type": "text"
      },
      "source": [
        "A first step in machine learning is often to look at the correlation between different indicators. Some indicators that are highly correlated with each other could end up being redundant."
      ]
    },
    {
      "cell_type": "code",
      "metadata": {
        "id": "fBqNPtuT1rBZ",
        "colab_type": "code",
        "outputId": "00da37d2-78ad-4fff-b769-6b0c490b6669",
        "colab": {
          "base_uri": "https://localhost:8080/",
          "height": 355
        }
      },
      "source": [
        "corr = class_df.corr()\n",
        "ax = sns.heatmap(\n",
        "    corr, \n",
        "    vmin=-1, vmax=1, center=0,\n",
        "    cmap=sns.diverging_palette(20, 220, n=200),\n",
        "    square=True\n",
        ")\n",
        "ax.set_xticklabels(\n",
        "    ax.get_xticklabels(),\n",
        "    rotation=45,\n",
        "    horizontalalignment='right'\n",
        ");"
      ],
      "execution_count": 0,
      "outputs": [
        {
          "output_type": "display_data",
          "data": {
            "image/png": "[encoded data removed]",
            "text/plain": [
              "<Figure size 432x288 with 2 Axes>"
            ]
          },
          "metadata": {
            "tags": []
          }
        }
      ]
    },
    {
      "cell_type": "markdown",
      "metadata": {
        "id": "u2K55AU30_tj",
        "colab_type": "text"
      },
      "source": [
        "#### Given your knowledge of marine ecology, do the above correlations surprise you? Do they make sense?\n",
        "This type of expert knowledge is sometimse also called domain knowledge. Incorporating domain knowledge in feature selection and so on used to be a very important step in achieving good results in machine learning.\n",
        "\n",
        "These days, when doing deep learning, this is often no longer the case: The machine is fed with so much raw data that it lears the domain knowledge by itself!"
      ]
    },
    {
      "cell_type": "markdown",
      "metadata": {
        "id": "_zlZFf5qGgAv",
        "colab_type": "text"
      },
      "source": [
        "Bedabundance isn't really correlated to anything else. Let's take a look at this feature."
      ]
    },
    {
      "cell_type": "code",
      "metadata": {
        "id": "uKlfnlywGpVc",
        "colab_type": "code",
        "outputId": "adf86000-a7b4-437b-cccf-42ab477abdce",
        "colab": {
          "base_uri": "https://localhost:8080/",
          "height": 170
        }
      },
      "source": [
        "class_df['Bedabundance'].describe()"
      ],
      "execution_count": 0,
      "outputs": [
        {
          "output_type": "execute_result",
          "data": {
            "text/plain": [
              "count    20000.000000\n",
              "mean        10.482118\n",
              "std         71.786574\n",
              "min          0.020000\n",
              "25%          0.221000\n",
              "50%          0.702000\n",
              "75%          3.184500\n",
              "max       4304.176000\n",
              "Name: Bedabundance, dtype: float64"
            ]
          },
          "metadata": {
            "tags": []
          },
          "execution_count": 9
        }
      ]
    },
    {
      "cell_type": "markdown",
      "metadata": {
        "id": "I8pnPi1DGwE2",
        "colab_type": "text"
      },
      "source": [
        "Those percentiles are weird! That max value seems very high compared to the 75% percentile. Let's plot all of the values."
      ]
    },
    {
      "cell_type": "code",
      "metadata": {
        "id": "IxLcFTuLG7AW",
        "colab_type": "code",
        "outputId": "adf7149d-c12d-423c-d85c-3a3a7f60196a",
        "colab": {
          "base_uri": "https://localhost:8080/",
          "height": 286
        }
      },
      "source": [
        "plt.scatter(np.arange(0,len(class_df)),class_df['Bedabundance'].sort_values())"
      ],
      "execution_count": 0,
      "outputs": [
        {
          "output_type": "execute_result",
          "data": {
            "text/plain": [
              "<matplotlib.collections.PathCollection at 0x7f6bef92ef28>"
            ]
          },
          "metadata": {
            "tags": []
          },
          "execution_count": 10
        },
        {
          "output_type": "display_data",
          "data": {
            "image/png": "[encoded data removed]",
            "text/plain": [
              "<Figure size 432x288 with 1 Axes>"
            ]
          },
          "metadata": {
            "tags": []
          }
        }
      ]
    },
    {
      "cell_type": "markdown",
      "metadata": {
        "id": "f8mtkp1ZIbCy",
        "colab_type": "text"
      },
      "source": [
        "So, it turns out there are some major differences between the Bedabundances. In case you wanted to chop off the data after the 90% percentile, comment out the next line of code. When continuing on with the rest of this notebook, try to think about what effects this could have. Not every technique will be equally strongly affected."
      ]
    },
    {
      "cell_type": "code",
      "metadata": {
        "id": "sqyFF40zIEKp",
        "colab_type": "code",
        "colab": {}
      },
      "source": [
        "class_df = class_df[class_df['Bedabundance'] < class_df['Bedabundance'].quantile(.90)]"
      ],
      "execution_count": 0,
      "outputs": []
    },
    {
      "cell_type": "markdown",
      "metadata": {
        "id": "PoGew_ESJce7",
        "colab_type": "text"
      },
      "source": [
        "If you did remove the top 10% of the Bedabundance sites, consider checking what happened to the correlation matrix."
      ]
    },
    {
      "cell_type": "markdown",
      "metadata": {
        "id": "r8C_mJN1aSg9",
        "colab_type": "text"
      },
      "source": [
        "## Classification"
      ]
    },
    {
      "cell_type": "markdown",
      "metadata": {
        "id": "bmwkrwsMQG5u",
        "colab_type": "text"
      },
      "source": [
        "To prepare the data for classification, we will separate the class, the `label_id`, from the features.\n",
        "\n",
        "We will store the labels in a dataframe `y`, and the features in a dataframe `x`."
      ]
    },
    {
      "cell_type": "code",
      "metadata": {
        "id": "IOjrO1U03EgV",
        "colab_type": "code",
        "outputId": "0c1530b8-a4fc-4c71-fde9-8aa4fa4139cd",
        "colab": {
          "base_uri": "https://localhost:8080/",
          "height": 68
        }
      },
      "source": [
        "y = class_df[label_id]\n",
        "x = class_df.drop([label_id], axis=1)\n",
        "\n",
        "print (\"dataset : \",class_df.shape)\n",
        "print (\"x : \",x.shape)\n",
        "print (\"y : \",y.shape)"
      ],
      "execution_count": 0,
      "outputs": [
        {
          "output_type": "stream",
          "text": [
            "dataset :  (18000, 19)\n",
            "x :  (18000, 18)\n",
            "y :  (18000,)\n"
          ],
          "name": "stdout"
        }
      ]
    },
    {
      "cell_type": "markdown",
      "metadata": {
        "id": "06RaiysHQcv-",
        "colab_type": "text"
      },
      "source": [
        "the `head()` command on a dataframe returns the first 5 rows. We often use it to take a look at the columns of the dataset."
      ]
    },
    {
      "cell_type": "code",
      "metadata": {
        "id": "5OMdKwqmAqRF",
        "colab_type": "code",
        "outputId": "189af76b-f3b6-447f-9b77-57abce1da9e5",
        "colab": {
          "base_uri": "https://localhost:8080/",
          "height": 258
        }
      },
      "source": [
        "x.head()"
      ],
      "execution_count": 0,
      "outputs": [
        {
          "output_type": "execute_result",
          "data": {
            "text/html": [
              "<div>\n",
              "<style scoped>\n",
              "    .dataframe tbody tr th:only-of-type {\n",
              "        vertical-align: middle;\n",
              "    }\n",
              "\n",
              "    .dataframe tbody tr th {\n",
              "        vertical-align: top;\n",
              "    }\n",
              "\n",
              "    .dataframe thead th {\n",
              "        text-align: right;\n",
              "    }\n",
              "</style>\n",
              "<table border=\"1\" class=\"dataframe\">\n",
              "  <thead>\n",
              "    <tr style=\"text-align: right;\">\n",
              "      <th></th>\n",
              "      <th>datecollected</th>\n",
              "      <th>yearcollected</th>\n",
              "      <th>monthcollected</th>\n",
              "      <th>decimallongitude</th>\n",
              "      <th>decimallatitude</th>\n",
              "      <th>Bedabundance</th>\n",
              "      <th>fishing</th>\n",
              "      <th>bathy</th>\n",
              "      <th>BO_phosphate</th>\n",
              "      <th>BO_nitrate</th>\n",
              "      <th>BO_salinity</th>\n",
              "      <th>BO_sstmax</th>\n",
              "      <th>BO_sstmean</th>\n",
              "      <th>BO_dissox</th>\n",
              "      <th>BO2_curvelmax_bdmax</th>\n",
              "      <th>BO2_lightbotmax_bdmax</th>\n",
              "      <th>coastdist</th>\n",
              "      <th>substrate</th>\n",
              "    </tr>\n",
              "  </thead>\n",
              "  <tbody>\n",
              "    <tr>\n",
              "      <th>0</th>\n",
              "      <td>2011-04-11</td>\n",
              "      <td>2011</td>\n",
              "      <td>4</td>\n",
              "      <td>4.083333</td>\n",
              "      <td>52.000000</td>\n",
              "      <td>2.474</td>\n",
              "      <td>3.580371</td>\n",
              "      <td>9.470000</td>\n",
              "      <td>1.3149</td>\n",
              "      <td>23.789000</td>\n",
              "      <td>32.712002</td>\n",
              "      <td>20.052999</td>\n",
              "      <td>12.533</td>\n",
              "      <td>5.696</td>\n",
              "      <td>0.197045</td>\n",
              "      <td>51.959618</td>\n",
              "      <td>1163.095498</td>\n",
              "      <td>Muddy sand</td>\n",
              "    </tr>\n",
              "    <tr>\n",
              "      <th>1</th>\n",
              "      <td>2014-06-26</td>\n",
              "      <td>2014</td>\n",
              "      <td>6</td>\n",
              "      <td>3.733333</td>\n",
              "      <td>51.766667</td>\n",
              "      <td>0.617</td>\n",
              "      <td>2.567846</td>\n",
              "      <td>4.050000</td>\n",
              "      <td>1.3208</td>\n",
              "      <td>22.468000</td>\n",
              "      <td>33.276001</td>\n",
              "      <td>19.679001</td>\n",
              "      <td>12.216</td>\n",
              "      <td>5.707</td>\n",
              "      <td>0.194461</td>\n",
              "      <td>52.213890</td>\n",
              "      <td>2891.283835</td>\n",
              "      <td>Sand</td>\n",
              "    </tr>\n",
              "    <tr>\n",
              "      <th>2</th>\n",
              "      <td>2006-07-05</td>\n",
              "      <td>2006</td>\n",
              "      <td>7</td>\n",
              "      <td>4.625000</td>\n",
              "      <td>53.133333</td>\n",
              "      <td>0.256</td>\n",
              "      <td>1.027181</td>\n",
              "      <td>21.440001</td>\n",
              "      <td>0.8338</td>\n",
              "      <td>16.073000</td>\n",
              "      <td>33.201000</td>\n",
              "      <td>19.153000</td>\n",
              "      <td>11.706</td>\n",
              "      <td>5.962</td>\n",
              "      <td>0.330311</td>\n",
              "      <td>0.000172</td>\n",
              "      <td>9061.493935</td>\n",
              "      <td>Coarse substrate</td>\n",
              "    </tr>\n",
              "    <tr>\n",
              "      <th>3</th>\n",
              "      <td>2007-04-24</td>\n",
              "      <td>2007</td>\n",
              "      <td>4</td>\n",
              "      <td>6.166667</td>\n",
              "      <td>53.550000</td>\n",
              "      <td>2.177</td>\n",
              "      <td>7.273304</td>\n",
              "      <td>13.780000</td>\n",
              "      <td>0.9326</td>\n",
              "      <td>21.235001</td>\n",
              "      <td>31.950001</td>\n",
              "      <td>19.655001</td>\n",
              "      <td>11.557</td>\n",
              "      <td>6.291</td>\n",
              "      <td>0.272504</td>\n",
              "      <td>52.218163</td>\n",
              "      <td>5174.087562</td>\n",
              "      <td>Sand</td>\n",
              "    </tr>\n",
              "    <tr>\n",
              "      <th>4</th>\n",
              "      <td>2015-05-04</td>\n",
              "      <td>2015</td>\n",
              "      <td>5</td>\n",
              "      <td>3.883333</td>\n",
              "      <td>51.866667</td>\n",
              "      <td>0.353</td>\n",
              "      <td>14.173340</td>\n",
              "      <td>6.980000</td>\n",
              "      <td>1.3188</td>\n",
              "      <td>23.136999</td>\n",
              "      <td>33.012001</td>\n",
              "      <td>19.698999</td>\n",
              "      <td>12.213</td>\n",
              "      <td>5.697</td>\n",
              "      <td>0.202623</td>\n",
              "      <td>20.613363</td>\n",
              "      <td>4246.686223</td>\n",
              "      <td>Sand</td>\n",
              "    </tr>\n",
              "  </tbody>\n",
              "</table>\n",
              "</div>"
            ],
            "text/plain": [
              "  datecollected  yearcollected  ...    coastdist         substrate\n",
              "0    2011-04-11           2011  ...  1163.095498        Muddy sand\n",
              "1    2014-06-26           2014  ...  2891.283835              Sand\n",
              "2    2006-07-05           2006  ...  9061.493935  Coarse substrate\n",
              "3    2007-04-24           2007  ...  5174.087562              Sand\n",
              "4    2015-05-04           2015  ...  4246.686223              Sand\n",
              "\n",
              "[5 rows x 18 columns]"
            ]
          },
          "metadata": {
            "tags": []
          },
          "execution_count": 13
        }
      ]
    },
    {
      "cell_type": "markdown",
      "metadata": {
        "id": "J6E46_tRan48",
        "colab_type": "text"
      },
      "source": [
        "The \"datecollected\" feature is a string. Let's drop it, and use month and year instead."
      ]
    },
    {
      "cell_type": "code",
      "metadata": {
        "id": "ge44Tf1dcTtb",
        "colab_type": "code",
        "colab": {}
      },
      "source": [
        "x.drop(['datecollected'], axis=1,inplace=True)"
      ],
      "execution_count": 0,
      "outputs": []
    },
    {
      "cell_type": "code",
      "metadata": {
        "id": "KozS6EEvfV2Y",
        "colab_type": "code",
        "colab": {}
      },
      "source": [
        "x = pd.concat([x, pd.get_dummies(x['yearcollected'], prefix='month_')], axis=1)\n",
        "x = pd.concat([x, pd.get_dummies(x['monthcollected'], prefix='year_')], axis=1)\n",
        "x = pd.concat([x, pd.get_dummies(x['substrate'])], axis=1)\n",
        "\n",
        "x.drop(['yearcollected'], axis=1,inplace=True)\n",
        "x.drop(['monthcollected'], axis=1,inplace=True)\n",
        "x.drop(['substrate'], axis=1,inplace=True)"
      ],
      "execution_count": 0,
      "outputs": []
    },
    {
      "cell_type": "markdown",
      "metadata": {
        "id": "1CPyeRjSQteC",
        "colab_type": "text"
      },
      "source": [
        "A more indepth examination is possible with the `describe()` command."
      ]
    },
    {
      "cell_type": "code",
      "metadata": {
        "id": "3yh49IMBQ1gN",
        "colab_type": "code",
        "outputId": "482ce3da-773f-44f1-e7a4-7fc51fd96f96",
        "colab": {
          "base_uri": "https://localhost:8080/",
          "height": 334
        }
      },
      "source": [
        "x.describe()"
      ],
      "execution_count": 0,
      "outputs": [
        {
          "output_type": "execute_result",
          "data": {
            "text/html": [
              "<div>\n",
              "<style scoped>\n",
              "    .dataframe tbody tr th:only-of-type {\n",
              "        vertical-align: middle;\n",
              "    }\n",
              "\n",
              "    .dataframe tbody tr th {\n",
              "        vertical-align: top;\n",
              "    }\n",
              "\n",
              "    .dataframe thead th {\n",
              "        text-align: right;\n",
              "    }\n",
              "</style>\n",
              "<table border=\"1\" class=\"dataframe\">\n",
              "  <thead>\n",
              "    <tr style=\"text-align: right;\">\n",
              "      <th></th>\n",
              "      <th>decimallongitude</th>\n",
              "      <th>decimallatitude</th>\n",
              "      <th>Bedabundance</th>\n",
              "      <th>fishing</th>\n",
              "      <th>bathy</th>\n",
              "      <th>BO_phosphate</th>\n",
              "      <th>BO_nitrate</th>\n",
              "      <th>BO_salinity</th>\n",
              "      <th>BO_sstmax</th>\n",
              "      <th>BO_sstmean</th>\n",
              "      <th>BO_dissox</th>\n",
              "      <th>BO2_curvelmax_bdmax</th>\n",
              "      <th>BO2_lightbotmax_bdmax</th>\n",
              "      <th>coastdist</th>\n",
              "      <th>month__2004</th>\n",
              "      <th>month__2005</th>\n",
              "      <th>month__2006</th>\n",
              "      <th>month__2007</th>\n",
              "      <th>month__2008</th>\n",
              "      <th>month__2009</th>\n",
              "      <th>month__2010</th>\n",
              "      <th>month__2011</th>\n",
              "      <th>month__2012</th>\n",
              "      <th>month__2013</th>\n",
              "      <th>month__2014</th>\n",
              "      <th>month__2015</th>\n",
              "      <th>month__2016</th>\n",
              "      <th>month__2017</th>\n",
              "      <th>year__3</th>\n",
              "      <th>year__4</th>\n",
              "      <th>year__5</th>\n",
              "      <th>year__6</th>\n",
              "      <th>year__7</th>\n",
              "      <th>year__8</th>\n",
              "      <th>year__9</th>\n",
              "      <th>Coarse substrate</th>\n",
              "      <th>Mixed sediment</th>\n",
              "      <th>Muddy sand</th>\n",
              "      <th>Sand</th>\n",
              "      <th>Sandy mud</th>\n",
              "      <th>Seabed</th>\n",
              "    </tr>\n",
              "  </thead>\n",
              "  <tbody>\n",
              "    <tr>\n",
              "      <th>count</th>\n",
              "      <td>18000.000000</td>\n",
              "      <td>18000.000000</td>\n",
              "      <td>18000.000000</td>\n",
              "      <td>18000.000000</td>\n",
              "      <td>18000.000000</td>\n",
              "      <td>18000.000000</td>\n",
              "      <td>18000.000000</td>\n",
              "      <td>18000.000000</td>\n",
              "      <td>18000.000000</td>\n",
              "      <td>18000.000000</td>\n",
              "      <td>18000.000000</td>\n",
              "      <td>18000.000000</td>\n",
              "      <td>1.800000e+04</td>\n",
              "      <td>18000.000000</td>\n",
              "      <td>18000.000000</td>\n",
              "      <td>18000.000000</td>\n",
              "      <td>18000.000000</td>\n",
              "      <td>18000.000000</td>\n",
              "      <td>18000.000000</td>\n",
              "      <td>18000.000000</td>\n",
              "      <td>18000.000000</td>\n",
              "      <td>18000.000000</td>\n",
              "      <td>18000.000000</td>\n",
              "      <td>18000.000000</td>\n",
              "      <td>18000.000000</td>\n",
              "      <td>18000.000000</td>\n",
              "      <td>18000.000000</td>\n",
              "      <td>18000.000000</td>\n",
              "      <td>18000.000000</td>\n",
              "      <td>18000.00000</td>\n",
              "      <td>18000.000000</td>\n",
              "      <td>18000.000000</td>\n",
              "      <td>18000.000000</td>\n",
              "      <td>18000.000000</td>\n",
              "      <td>18000.000000</td>\n",
              "      <td>18000.000000</td>\n",
              "      <td>18000.000000</td>\n",
              "      <td>18000.000000</td>\n",
              "      <td>18000.000000</td>\n",
              "      <td>18000.000000</td>\n",
              "      <td>18000.000000</td>\n",
              "    </tr>\n",
              "    <tr>\n",
              "      <th>mean</th>\n",
              "      <td>4.532537</td>\n",
              "      <td>52.589559</td>\n",
              "      <td>1.684170</td>\n",
              "      <td>4.120040</td>\n",
              "      <td>14.889183</td>\n",
              "      <td>1.085573</td>\n",
              "      <td>20.360427</td>\n",
              "      <td>32.908975</td>\n",
              "      <td>19.461016</td>\n",
              "      <td>11.883879</td>\n",
              "      <td>5.904686</td>\n",
              "      <td>0.250199</td>\n",
              "      <td>2.048642e+01</td>\n",
              "      <td>8619.186728</td>\n",
              "      <td>0.049667</td>\n",
              "      <td>0.046111</td>\n",
              "      <td>0.070222</td>\n",
              "      <td>0.081111</td>\n",
              "      <td>0.074056</td>\n",
              "      <td>0.072500</td>\n",
              "      <td>0.071278</td>\n",
              "      <td>0.069556</td>\n",
              "      <td>0.067889</td>\n",
              "      <td>0.071333</td>\n",
              "      <td>0.081611</td>\n",
              "      <td>0.084611</td>\n",
              "      <td>0.084222</td>\n",
              "      <td>0.075833</td>\n",
              "      <td>0.008222</td>\n",
              "      <td>0.40850</td>\n",
              "      <td>0.323889</td>\n",
              "      <td>0.216778</td>\n",
              "      <td>0.030167</td>\n",
              "      <td>0.003278</td>\n",
              "      <td>0.009167</td>\n",
              "      <td>0.055278</td>\n",
              "      <td>0.001333</td>\n",
              "      <td>0.011889</td>\n",
              "      <td>0.829722</td>\n",
              "      <td>0.097167</td>\n",
              "      <td>0.004611</td>\n",
              "    </tr>\n",
              "    <tr>\n",
              "      <th>std</th>\n",
              "      <td>0.856364</td>\n",
              "      <td>0.746854</td>\n",
              "      <td>2.580633</td>\n",
              "      <td>5.357022</td>\n",
              "      <td>6.801131</td>\n",
              "      <td>0.216050</td>\n",
              "      <td>2.560947</td>\n",
              "      <td>0.463071</td>\n",
              "      <td>0.313240</td>\n",
              "      <td>0.267694</td>\n",
              "      <td>0.201641</td>\n",
              "      <td>0.050850</td>\n",
              "      <td>2.468351e+01</td>\n",
              "      <td>5502.211419</td>\n",
              "      <td>0.217261</td>\n",
              "      <td>0.209732</td>\n",
              "      <td>0.255528</td>\n",
              "      <td>0.273013</td>\n",
              "      <td>0.261869</td>\n",
              "      <td>0.259321</td>\n",
              "      <td>0.257295</td>\n",
              "      <td>0.254404</td>\n",
              "      <td>0.251562</td>\n",
              "      <td>0.257388</td>\n",
              "      <td>0.273779</td>\n",
              "      <td>0.278310</td>\n",
              "      <td>0.277729</td>\n",
              "      <td>0.264739</td>\n",
              "      <td>0.090305</td>\n",
              "      <td>0.49157</td>\n",
              "      <td>0.467971</td>\n",
              "      <td>0.412061</td>\n",
              "      <td>0.171050</td>\n",
              "      <td>0.057160</td>\n",
              "      <td>0.095306</td>\n",
              "      <td>0.228528</td>\n",
              "      <td>0.036491</td>\n",
              "      <td>0.108389</td>\n",
              "      <td>0.375887</td>\n",
              "      <td>0.296193</td>\n",
              "      <td>0.067750</td>\n",
              "    </tr>\n",
              "    <tr>\n",
              "      <th>min</th>\n",
              "      <td>3.162500</td>\n",
              "      <td>51.383333</td>\n",
              "      <td>0.020000</td>\n",
              "      <td>0.000054</td>\n",
              "      <td>-0.240000</td>\n",
              "      <td>0.739700</td>\n",
              "      <td>14.152000</td>\n",
              "      <td>31.379000</td>\n",
              "      <td>18.707001</td>\n",
              "      <td>11.377000</td>\n",
              "      <td>5.671000</td>\n",
              "      <td>0.109856</td>\n",
              "      <td>7.068152e-07</td>\n",
              "      <td>0.000000</td>\n",
              "      <td>0.000000</td>\n",
              "      <td>0.000000</td>\n",
              "      <td>0.000000</td>\n",
              "      <td>0.000000</td>\n",
              "      <td>0.000000</td>\n",
              "      <td>0.000000</td>\n",
              "      <td>0.000000</td>\n",
              "      <td>0.000000</td>\n",
              "      <td>0.000000</td>\n",
              "      <td>0.000000</td>\n",
              "      <td>0.000000</td>\n",
              "      <td>0.000000</td>\n",
              "      <td>0.000000</td>\n",
              "      <td>0.000000</td>\n",
              "      <td>0.000000</td>\n",
              "      <td>0.00000</td>\n",
              "      <td>0.000000</td>\n",
              "      <td>0.000000</td>\n",
              "      <td>0.000000</td>\n",
              "      <td>0.000000</td>\n",
              "      <td>0.000000</td>\n",
              "      <td>0.000000</td>\n",
              "      <td>0.000000</td>\n",
              "      <td>0.000000</td>\n",
              "      <td>0.000000</td>\n",
              "      <td>0.000000</td>\n",
              "      <td>0.000000</td>\n",
              "    </tr>\n",
              "    <tr>\n",
              "      <th>25%</th>\n",
              "      <td>3.800000</td>\n",
              "      <td>51.850000</td>\n",
              "      <td>0.206000</td>\n",
              "      <td>0.709532</td>\n",
              "      <td>9.420000</td>\n",
              "      <td>0.874500</td>\n",
              "      <td>18.339001</td>\n",
              "      <td>32.581001</td>\n",
              "      <td>19.256001</td>\n",
              "      <td>11.644000</td>\n",
              "      <td>5.735000</td>\n",
              "      <td>0.210191</td>\n",
              "      <td>8.470287e-04</td>\n",
              "      <td>4296.762423</td>\n",
              "      <td>0.000000</td>\n",
              "      <td>0.000000</td>\n",
              "      <td>0.000000</td>\n",
              "      <td>0.000000</td>\n",
              "      <td>0.000000</td>\n",
              "      <td>0.000000</td>\n",
              "      <td>0.000000</td>\n",
              "      <td>0.000000</td>\n",
              "      <td>0.000000</td>\n",
              "      <td>0.000000</td>\n",
              "      <td>0.000000</td>\n",
              "      <td>0.000000</td>\n",
              "      <td>0.000000</td>\n",
              "      <td>0.000000</td>\n",
              "      <td>0.000000</td>\n",
              "      <td>0.00000</td>\n",
              "      <td>0.000000</td>\n",
              "      <td>0.000000</td>\n",
              "      <td>0.000000</td>\n",
              "      <td>0.000000</td>\n",
              "      <td>0.000000</td>\n",
              "      <td>0.000000</td>\n",
              "      <td>0.000000</td>\n",
              "      <td>0.000000</td>\n",
              "      <td>1.000000</td>\n",
              "      <td>0.000000</td>\n",
              "      <td>0.000000</td>\n",
              "    </tr>\n",
              "    <tr>\n",
              "      <th>50%</th>\n",
              "      <td>4.458333</td>\n",
              "      <td>52.550000</td>\n",
              "      <td>0.567000</td>\n",
              "      <td>1.895385</td>\n",
              "      <td>15.940000</td>\n",
              "      <td>1.090600</td>\n",
              "      <td>20.849001</td>\n",
              "      <td>32.956001</td>\n",
              "      <td>19.462999</td>\n",
              "      <td>11.895000</td>\n",
              "      <td>5.823000</td>\n",
              "      <td>0.246820</td>\n",
              "      <td>4.290867e-01</td>\n",
              "      <td>7548.709778</td>\n",
              "      <td>0.000000</td>\n",
              "      <td>0.000000</td>\n",
              "      <td>0.000000</td>\n",
              "      <td>0.000000</td>\n",
              "      <td>0.000000</td>\n",
              "      <td>0.000000</td>\n",
              "      <td>0.000000</td>\n",
              "      <td>0.000000</td>\n",
              "      <td>0.000000</td>\n",
              "      <td>0.000000</td>\n",
              "      <td>0.000000</td>\n",
              "      <td>0.000000</td>\n",
              "      <td>0.000000</td>\n",
              "      <td>0.000000</td>\n",
              "      <td>0.000000</td>\n",
              "      <td>0.00000</td>\n",
              "      <td>0.000000</td>\n",
              "      <td>0.000000</td>\n",
              "      <td>0.000000</td>\n",
              "      <td>0.000000</td>\n",
              "      <td>0.000000</td>\n",
              "      <td>0.000000</td>\n",
              "      <td>0.000000</td>\n",
              "      <td>0.000000</td>\n",
              "      <td>1.000000</td>\n",
              "      <td>0.000000</td>\n",
              "      <td>0.000000</td>\n",
              "    </tr>\n",
              "    <tr>\n",
              "      <th>75%</th>\n",
              "      <td>5.125000</td>\n",
              "      <td>53.450000</td>\n",
              "      <td>1.828000</td>\n",
              "      <td>5.317977</td>\n",
              "      <td>20.520000</td>\n",
              "      <td>1.295800</td>\n",
              "      <td>22.563000</td>\n",
              "      <td>33.236000</td>\n",
              "      <td>19.642000</td>\n",
              "      <td>12.051000</td>\n",
              "      <td>6.099000</td>\n",
              "      <td>0.287816</td>\n",
              "      <td>5.153546e+01</td>\n",
              "      <td>11853.852833</td>\n",
              "      <td>0.000000</td>\n",
              "      <td>0.000000</td>\n",
              "      <td>0.000000</td>\n",
              "      <td>0.000000</td>\n",
              "      <td>0.000000</td>\n",
              "      <td>0.000000</td>\n",
              "      <td>0.000000</td>\n",
              "      <td>0.000000</td>\n",
              "      <td>0.000000</td>\n",
              "      <td>0.000000</td>\n",
              "      <td>0.000000</td>\n",
              "      <td>0.000000</td>\n",
              "      <td>0.000000</td>\n",
              "      <td>0.000000</td>\n",
              "      <td>0.000000</td>\n",
              "      <td>1.00000</td>\n",
              "      <td>1.000000</td>\n",
              "      <td>0.000000</td>\n",
              "      <td>0.000000</td>\n",
              "      <td>0.000000</td>\n",
              "      <td>0.000000</td>\n",
              "      <td>0.000000</td>\n",
              "      <td>0.000000</td>\n",
              "      <td>0.000000</td>\n",
              "      <td>1.000000</td>\n",
              "      <td>0.000000</td>\n",
              "      <td>0.000000</td>\n",
              "    </tr>\n",
              "    <tr>\n",
              "      <th>max</th>\n",
              "      <td>6.541667</td>\n",
              "      <td>53.700000</td>\n",
              "      <td>13.276000</td>\n",
              "      <td>53.632763</td>\n",
              "      <td>30.340000</td>\n",
              "      <td>1.493800</td>\n",
              "      <td>24.700001</td>\n",
              "      <td>34.037998</td>\n",
              "      <td>21.150000</td>\n",
              "      <td>12.841000</td>\n",
              "      <td>6.366000</td>\n",
              "      <td>0.371960</td>\n",
              "      <td>5.532480e+01</td>\n",
              "      <td>25144.521954</td>\n",
              "      <td>1.000000</td>\n",
              "      <td>1.000000</td>\n",
              "      <td>1.000000</td>\n",
              "      <td>1.000000</td>\n",
              "      <td>1.000000</td>\n",
              "      <td>1.000000</td>\n",
              "      <td>1.000000</td>\n",
              "      <td>1.000000</td>\n",
              "      <td>1.000000</td>\n",
              "      <td>1.000000</td>\n",
              "      <td>1.000000</td>\n",
              "      <td>1.000000</td>\n",
              "      <td>1.000000</td>\n",
              "      <td>1.000000</td>\n",
              "      <td>1.000000</td>\n",
              "      <td>1.00000</td>\n",
              "      <td>1.000000</td>\n",
              "      <td>1.000000</td>\n",
              "      <td>1.000000</td>\n",
              "      <td>1.000000</td>\n",
              "      <td>1.000000</td>\n",
              "      <td>1.000000</td>\n",
              "      <td>1.000000</td>\n",
              "      <td>1.000000</td>\n",
              "      <td>1.000000</td>\n",
              "      <td>1.000000</td>\n",
              "      <td>1.000000</td>\n",
              "    </tr>\n",
              "  </tbody>\n",
              "</table>\n",
              "</div>"
            ],
            "text/plain": [
              "       decimallongitude  decimallatitude  ...     Sandy mud        Seabed\n",
              "count      18000.000000     18000.000000  ...  18000.000000  18000.000000\n",
              "mean           4.532537        52.589559  ...      0.097167      0.004611\n",
              "std            0.856364         0.746854  ...      0.296193      0.067750\n",
              "min            3.162500        51.383333  ...      0.000000      0.000000\n",
              "25%            3.800000        51.850000  ...      0.000000      0.000000\n",
              "50%            4.458333        52.550000  ...      0.000000      0.000000\n",
              "75%            5.125000        53.450000  ...      0.000000      0.000000\n",
              "max            6.541667        53.700000  ...      1.000000      1.000000\n",
              "\n",
              "[8 rows x 41 columns]"
            ]
          },
          "metadata": {
            "tags": []
          },
          "execution_count": 16
        }
      ]
    },
    {
      "cell_type": "markdown",
      "metadata": {
        "id": "e14Q5NLuQ5-u",
        "colab_type": "text"
      },
      "source": [
        "We will split the dataset in a training set and a test set."
      ]
    },
    {
      "cell_type": "code",
      "metadata": {
        "id": "-wcnBiFY3enc",
        "colab_type": "code",
        "outputId": "f4dcb49e-2592-496e-eada-dc45727fc8ca",
        "colab": {
          "base_uri": "https://localhost:8080/",
          "height": 51
        }
      },
      "source": [
        "#Selective import Scikit Learn \n",
        "from sklearn.model_selection import train_test_split\n",
        "\n",
        "# Generate Training and Validation Sets\n",
        "x_train, x_test, y_train, y_test = train_test_split(x,y, test_size=0.3) #0.3 data as data test\n",
        "\n",
        "#converting to float 32bit - not actually needed\n",
        "#x_train = np.array(x_train).astype(np.float32)\n",
        "#x_test  = np.array(x_test).astype(np.float32)\n",
        "#y_train = np.array(y_train).astype(np.float32)\n",
        "#y_test  = np.array(y_test).astype(np.float32)\n",
        "\n",
        "#print data split for validation\n",
        "print(x_train.shape, y_train.shape)\n",
        "print(x_test.shape, y_test.shape)"
      ],
      "execution_count": 0,
      "outputs": [
        {
          "output_type": "stream",
          "text": [
            "(12600, 41) (12600,)\n",
            "(5400, 41) (5400,)\n"
          ],
          "name": "stdout"
        }
      ]
    },
    {
      "cell_type": "markdown",
      "metadata": {
        "id": "wTMvlbZTafQX",
        "colab_type": "text"
      },
      "source": [
        "### Neural Network Classification"
      ]
    },
    {
      "cell_type": "markdown",
      "metadata": {
        "id": "ZdT1CDW9SLBh",
        "colab_type": "text"
      },
      "source": [
        "Let's dive straight in with a neural network classifier. Spoiler: It won't work very well on factory settings. Or even when fiddling with the hidden layer sizes and learning rates. Nevertheless, there are some settings where the network starts to learn a little bit.\n",
        "The starting `hidden_layer_sizes=(100,5), max_iter=2000, alpha=0.01, solver='adam'` is not one of those settings.\n",
        "\n",
        "\n",
        "> Hidden layer sizes allow to specify how big the network has to be.\n",
        ">\n",
        "> The alpha term determines how fast it learns from the input it gets. If it becomes too large, the network reacts too fast and goes all over the place.\n",
        ">\n",
        "> There are three different solvers for weight optimization in the MLPClassifier:\n",
        ">\n",
        ">> ‘lbfgs’ is an optimizer in the family of quasi-Newton methods.\n",
        ">> ‘sgd’ refers to stochastic gradient descent.\n",
        ">> ‘adam’ refers to a stochastic gradient-based optimizer proposed by Kingma, Diederik, and Jimmy Ba\n",
        ">>\n",
        ">> Note: The default solver ‘adam’ works pretty well on relatively large datasets (with thousands of training samples or more) in terms of both training time and validation score. For small datasets, however, ‘lbfgs’ can converge faster and perform better.\n"
      ]
    },
    {
      "cell_type": "code",
      "metadata": {
        "id": "sKUZY0Bv3kOk",
        "colab_type": "code",
        "colab": {}
      },
      "source": [
        "#Importing our model\n",
        "from sklearn.neural_network import MLPClassifier\n",
        "\n",
        "#model initialization\n",
        "Model = MLPClassifier(hidden_layer_sizes=(400,20), max_iter=2000, alpha=0.001, #try changing hidden layers and learning rate alpha\n",
        "                     solver='adam', verbose=0,  random_state=121) #try verbose=0 to train with out logging\n",
        "#train our model\n",
        "h=Model.fit(x_train,y_train)\n",
        "#use our model to predict\n",
        "NN_pred=Model.predict(x_test)"
      ],
      "execution_count": 0,
      "outputs": []
    },
    {
      "cell_type": "code",
      "metadata": {
        "id": "ppus2z6E31Ee",
        "colab_type": "code",
        "outputId": "04a9f27d-d25b-44b3-ad44-d7a7c8f7dc76",
        "colab": {
          "base_uri": "https://localhost:8080/",
          "height": 312
        }
      },
      "source": [
        "import matplotlib.pyplot as plt\n",
        "\n",
        "plt.plot(h.loss_curve_)\n",
        "plt.title('Loss History')\n",
        "plt.xlabel('epoch')\n",
        "plt.legend(['Loss'])"
      ],
      "execution_count": 0,
      "outputs": [
        {
          "output_type": "execute_result",
          "data": {
            "text/plain": [
              "<matplotlib.legend.Legend at 0x7f6be9a27d30>"
            ]
          },
          "metadata": {
            "tags": []
          },
          "execution_count": 19
        },
        {
          "output_type": "display_data",
          "data": {
            "image/png": "[encoded data removed]",
            "text/plain": [
              "<Figure size 432x288 with 1 Axes>"
            ]
          },
          "metadata": {
            "tags": []
          }
        }
      ]
    },
    {
      "cell_type": "code",
      "metadata": {
        "id": "h4vZ09zD3sBX",
        "colab_type": "code",
        "outputId": "1cc7d264-c08d-4b68-925b-a8cec6f05af6",
        "colab": {
          "base_uri": "https://localhost:8080/",
          "height": 187
        }
      },
      "source": [
        "#scikit for machine learning reporting\n",
        "from sklearn.metrics import mean_squared_error \n",
        "from sklearn.metrics import classification_report\n",
        "from sklearn.metrics import confusion_matrix\n",
        "from sklearn.metrics import accuracy_score\n",
        "\n",
        "print(classification_report(y_test,NN_pred)) # Print summary report"
      ],
      "execution_count": 0,
      "outputs": [
        {
          "output_type": "stream",
          "text": [
            "                      precision    recall  f1-score   support\n",
            "\n",
            "               Ensis       0.66      0.12      0.21      1971\n",
            "Liocarcinus holsatus       0.46      0.84      0.60      1803\n",
            "     Ophiura ophiura       0.37      0.40      0.38      1626\n",
            "\n",
            "            accuracy                           0.45      5400\n",
            "           macro avg       0.50      0.45      0.40      5400\n",
            "        weighted avg       0.51      0.45      0.39      5400\n",
            "\n"
          ],
          "name": "stdout"
        }
      ]
    },
    {
      "cell_type": "markdown",
      "metadata": {
        "id": "SRph9qp1x0SE",
        "colab_type": "text"
      },
      "source": [
        "The reported averages include macro average (averaging the unweighted mean per label), weighted average (averaging the support-weighted mean per label), sample average (only for multilabel classification) and micro average (averaging the total true positives, false negatives and false positives) "
      ]
    },
    {
      "cell_type": "markdown",
      "metadata": {
        "id": "vgjavnP1x6sz",
        "colab_type": "text"
      },
      "source": [
        "We also take a look at the confusion matrix, showing which objects get (mis)classified as which."
      ]
    },
    {
      "cell_type": "code",
      "metadata": {
        "id": "LHbjy6cPx3pu",
        "colab_type": "code",
        "outputId": "3a9fbeef-57d3-45b1-b597-d17940f84c83",
        "colab": {
          "base_uri": "https://localhost:8080/",
          "height": 68
        }
      },
      "source": [
        "print(confusion_matrix(y_test, NN_pred)) # Print Confusion matrix "
      ],
      "execution_count": 0,
      "outputs": [
        {
          "output_type": "stream",
          "text": [
            "[[ 245  891  835]\n",
            " [  34 1521  248]\n",
            " [  90  893  643]]\n"
          ],
          "name": "stdout"
        }
      ]
    },
    {
      "cell_type": "code",
      "metadata": {
        "id": "EImqfRjCyEzU",
        "colab_type": "code",
        "outputId": "5f40f333-547b-4208-d9c8-4001a8fd3cba",
        "colab": {
          "base_uri": "https://localhost:8080/",
          "height": 34
        }
      },
      "source": [
        "print('accuracy is ',accuracy_score(NN_pred,y_test)) # Print accuracy score"
      ],
      "execution_count": 0,
      "outputs": [
        {
          "output_type": "stream",
          "text": [
            "accuracy is  0.4461111111111111\n"
          ],
          "name": "stdout"
        }
      ]
    },
    {
      "cell_type": "markdown",
      "metadata": {
        "id": "SWF-KORKBeia",
        "colab_type": "text"
      },
      "source": [
        "### Decision trees"
      ]
    },
    {
      "cell_type": "markdown",
      "metadata": {
        "id": "2hin43bNvFrK",
        "colab_type": "text"
      },
      "source": [
        "Decision Trees are a non-parametric supervised learning method used for classification and regression. The goal is to create a model that predicts the value of a target variable by learning simple decision rules inferred from the data features.\n",
        "\n",
        "It will do so by learning a set of if-then-else decision rules. The deeper the tree, the more complex the decision rules and the fitter the model.\n",
        "\n",
        "Some advantages of decision trees are:\n",
        "\n",
        "> Simple to understand and to interpret. Trees can be visualised.\n",
        "> \n",
        "> Requires little data preparation. Other techniques often require data normalisation, dummy variables need to be created and blank values to be removed. > Able to handle both numerical and categorical data. Other techniques are usually specialised in analysing datasets that have only one type of variable.\n",
        "> \n",
        "> Able to handle multi-output problems.\n",
        "> \n",
        "> Uses a white box model. If a given situation is observable in a model, the explanation for the condition is easily explained by boolean logic. By contrast, in a black box model (e.g., in an artificial neural network), results may be more difficult to interpret.\n",
        "> \n",
        "> Possible to validate a model using statistical tests. That makes it possible to account for the reliability of the model.\n",
        "> \n",
        "> Performs well even if its assumptions are somewhat violated by the true model from which the data were generated.\n",
        "\n",
        "The disadvantages of decision trees include:\n",
        "\n",
        "> Decision-tree learners can create over-complex trees that do not generalise the data well. This is called overfitting. Mechanisms such as pruning, setting the minimum number of samples required at a leaf node or setting the maximum depth of the tree are necessary to avoid this problem.\n",
        "> \n",
        "> Decision trees can be unstable because small variations in the data might result in a completely different tree being generated. This problem is mitigated by using decision trees within an ensemble.\n",
        "> \n",
        "> The problem of learning an optimal decision tree is known to be NP-complete under several aspects of optimality and even for simple concepts. Consequently, practical decision-tree learning algorithms are based on heuristic algorithms such as the greedy algorithm where locally optimal decisions are made at each node. Such algorithms cannot guarantee to return the globally optimal decision tree. This can be mitigated by training multiple trees in an ensemble learner, where the features and samples are randomly sampled with replacement.\n",
        "> \n",
        "> There are concepts that are hard to learn because decision trees do not express them easily, such as XOR, parity or multiplexer problems.\n",
        "> \n",
        "> Decision tree learners create biased trees if some classes dominate. It is therefore recommended to balance the dataset prior to fitting with the decision tree.\n",
        "\n"
      ]
    },
    {
      "cell_type": "markdown",
      "metadata": {
        "id": "0vPwdZqCv9ed",
        "colab_type": "text"
      },
      "source": [
        "**Which of these advantages and disadvantages do you think will come in to play here?**"
      ]
    },
    {
      "cell_type": "code",
      "metadata": {
        "id": "X9vyVw4O85K1",
        "colab_type": "code",
        "colab": {}
      },
      "source": [
        "from sklearn import tree\n",
        "\n",
        "treemodel = tree.DecisionTreeClassifier()"
      ],
      "execution_count": 0,
      "outputs": []
    },
    {
      "cell_type": "code",
      "metadata": {
        "id": "ATzGuiGK85Nl",
        "colab_type": "code",
        "outputId": "a47560d2-6924-4ed9-a34a-de7174ce6285",
        "colab": {
          "base_uri": "https://localhost:8080/",
          "height": 119
        }
      },
      "source": [
        "treemodel.fit(x_train, y_train)"
      ],
      "execution_count": 0,
      "outputs": [
        {
          "output_type": "execute_result",
          "data": {
            "text/plain": [
              "DecisionTreeClassifier(class_weight=None, criterion='gini', max_depth=None,\n",
              "                       max_features=None, max_leaf_nodes=None,\n",
              "                       min_impurity_decrease=0.0, min_impurity_split=None,\n",
              "                       min_samples_leaf=1, min_samples_split=2,\n",
              "                       min_weight_fraction_leaf=0.0, presort=False,\n",
              "                       random_state=None, splitter='best')"
            ]
          },
          "metadata": {
            "tags": []
          },
          "execution_count": 24
        }
      ]
    },
    {
      "cell_type": "code",
      "metadata": {
        "id": "wJst5XPa85Qj",
        "colab_type": "code",
        "outputId": "667a370c-ad0e-483b-b64c-2da2f49a363d",
        "colab": {
          "base_uri": "https://localhost:8080/",
          "height": 187
        }
      },
      "source": [
        "tree_pred = treemodel.predict(x_test)\n",
        "\n",
        "from sklearn.metrics import accuracy_score\n",
        "\n",
        "print(classification_report(y_test,tree_pred))"
      ],
      "execution_count": 0,
      "outputs": [
        {
          "output_type": "stream",
          "text": [
            "                      precision    recall  f1-score   support\n",
            "\n",
            "               Ensis       0.50      0.50      0.50      1971\n",
            "Liocarcinus holsatus       0.51      0.49      0.50      1803\n",
            "     Ophiura ophiura       0.37      0.39      0.38      1626\n",
            "\n",
            "            accuracy                           0.46      5400\n",
            "           macro avg       0.46      0.46      0.46      5400\n",
            "        weighted avg       0.46      0.46      0.46      5400\n",
            "\n"
          ],
          "name": "stdout"
        }
      ]
    },
    {
      "cell_type": "code",
      "metadata": {
        "id": "8zFt6yZtMpmf",
        "colab_type": "code",
        "outputId": "382e5a46-496e-4209-b991-c87d22ad609c",
        "colab": {
          "base_uri": "https://localhost:8080/",
          "height": 34
        }
      },
      "source": [
        "score = accuracy_score(y_test, tree_pred)\n",
        "print(score)"
      ],
      "execution_count": 0,
      "outputs": [
        {
          "output_type": "stream",
          "text": [
            "0.46166666666666667\n"
          ],
          "name": "stdout"
        }
      ]
    },
    {
      "cell_type": "code",
      "metadata": {
        "id": "pinQL9ij85Tb",
        "colab_type": "code",
        "outputId": "804a78f9-b98b-43f4-aaed-0d536340476c",
        "colab": {
          "base_uri": "https://localhost:8080/",
          "height": 68
        }
      },
      "source": [
        "confusion_matrix(y_test, tree_pred)"
      ],
      "execution_count": 0,
      "outputs": [
        {
          "output_type": "execute_result",
          "data": {
            "text/plain": [
              "array([[979, 399, 593],\n",
              "       [440, 886, 477],\n",
              "       [529, 469, 628]])"
            ]
          },
          "metadata": {
            "tags": []
          },
          "execution_count": 27
        }
      ]
    },
    {
      "cell_type": "markdown",
      "metadata": {
        "id": "onAtGY3jBb_s",
        "colab_type": "text"
      },
      "source": [
        "### Random Forest"
      ]
    },
    {
      "cell_type": "markdown",
      "metadata": {
        "id": "BVo9hS61wSDI",
        "colab_type": "text"
      },
      "source": [
        "We will now test an upgrade to decision trees, a random forest. A random forest consists of---you might have guessed it---a number of decision trees forming an *ensemble*.\n",
        "\n",
        "In random forests, each tree in the ensemble is built from a sample drawn with replacement from the training set.\n",
        "\n",
        "Furthermore, when splitting each node during the construction of a tree, the best split is found either from all input features or a random subset of size `max_features`.\n",
        "\n",
        "The purpose of these two sources of randomness is to decrease the variance of the forest estimator. Indeed, individual decision trees typically exhibit high variance and tend to overfit. The injected randomness in forests yield decision trees with somewhat decoupled prediction errors. By taking an average of those predictions, some errors can cancel out. Random forests achieve a reduced variance by combining diverse trees, sometimes at the cost of a slight increase in bias. In practice the variance reduction is often significant hence yielding an overall better model."
      ]
    },
    {
      "cell_type": "code",
      "metadata": {
        "id": "mzGeCRcjBYnm",
        "colab_type": "code",
        "outputId": "47634300-1524-48d8-d766-80a50311e67d",
        "colab": {
          "base_uri": "https://localhost:8080/",
          "height": 34
        }
      },
      "source": [
        "from sklearn.model_selection import train_test_split\n",
        "import pandas as pd\n",
        "import numpy as np\n",
        "from keras.models import Sequential\n",
        "from keras.layers import Dense, Activation, Flatten\n",
        "from sklearn.ensemble import RandomForestClassifier\n",
        "from sklearn.metrics import f1_score\n",
        "from sklearn.metrics import accuracy_score\n",
        "from keras.callbacks import ModelCheckpoint\n",
        "from sklearn.metrics import accuracy_score"
      ],
      "execution_count": 0,
      "outputs": [
        {
          "output_type": "stream",
          "text": [
            "Using TensorFlow backend.\n"
          ],
          "name": "stderr"
        }
      ]
    },
    {
      "cell_type": "code",
      "metadata": {
        "id": "mH4diUkO85WD",
        "colab_type": "code",
        "colab": {}
      },
      "source": [
        "parameters = {'bootstrap': True,\n",
        "              'min_samples_leaf': 3,\n",
        "              'n_estimators': 50, \n",
        "              'min_samples_split': 10,\n",
        "              'max_features': 'sqrt',\n",
        "              'max_depth': 6,\n",
        "              'max_leaf_nodes': None}"
      ],
      "execution_count": 0,
      "outputs": []
    },
    {
      "cell_type": "code",
      "metadata": {
        "id": "K5IQO1jO85Yj",
        "colab_type": "code",
        "colab": {}
      },
      "source": [
        "RF_model = RandomForestClassifier(**parameters)"
      ],
      "execution_count": 0,
      "outputs": []
    },
    {
      "cell_type": "code",
      "metadata": {
        "id": "b4_wqRKqBoc_",
        "colab_type": "code",
        "outputId": "67a9178c-0dce-48db-8616-f01ca3945b44",
        "colab": {
          "base_uri": "https://localhost:8080/",
          "height": 136
        }
      },
      "source": [
        "RF_model.fit(x_train, y_train)"
      ],
      "execution_count": 0,
      "outputs": [
        {
          "output_type": "execute_result",
          "data": {
            "text/plain": [
              "RandomForestClassifier(bootstrap=True, class_weight=None, criterion='gini',\n",
              "                       max_depth=6, max_features='sqrt', max_leaf_nodes=None,\n",
              "                       min_impurity_decrease=0.0, min_impurity_split=None,\n",
              "                       min_samples_leaf=3, min_samples_split=10,\n",
              "                       min_weight_fraction_leaf=0.0, n_estimators=50,\n",
              "                       n_jobs=None, oob_score=False, random_state=None,\n",
              "                       verbose=0, warm_start=False)"
            ]
          },
          "metadata": {
            "tags": []
          },
          "execution_count": 31
        }
      ]
    },
    {
      "cell_type": "code",
      "metadata": {
        "id": "ikbJL8LjBuTH",
        "colab_type": "code",
        "colab": {}
      },
      "source": [
        "RF_pred = RF_model.predict(x_test)"
      ],
      "execution_count": 0,
      "outputs": []
    },
    {
      "cell_type": "code",
      "metadata": {
        "id": "RSYmRU1OBzX-",
        "colab_type": "code",
        "outputId": "51777687-8b5d-4156-a056-2fa957f09bbf",
        "colab": {
          "base_uri": "https://localhost:8080/",
          "height": 34
        }
      },
      "source": [
        "score = accuracy_score(y_test, RF_pred)\n",
        "print(score)"
      ],
      "execution_count": 0,
      "outputs": [
        {
          "output_type": "stream",
          "text": [
            "0.5459259259259259\n"
          ],
          "name": "stdout"
        }
      ]
    },
    {
      "cell_type": "code",
      "metadata": {
        "id": "_deYDZ6rzSUl",
        "colab_type": "code",
        "outputId": "bae2a21a-096d-4aba-e7d4-d026ddd10d44",
        "colab": {
          "base_uri": "https://localhost:8080/",
          "height": 187
        }
      },
      "source": [
        "print(classification_report(y_test,RF_pred))"
      ],
      "execution_count": 0,
      "outputs": [
        {
          "output_type": "stream",
          "text": [
            "                      precision    recall  f1-score   support\n",
            "\n",
            "               Ensis       0.58      0.58      0.58      1971\n",
            "Liocarcinus holsatus       0.55      0.80      0.65      1803\n",
            "     Ophiura ophiura       0.46      0.22      0.30      1626\n",
            "\n",
            "            accuracy                           0.55      5400\n",
            "           macro avg       0.53      0.53      0.51      5400\n",
            "        weighted avg       0.53      0.55      0.52      5400\n",
            "\n"
          ],
          "name": "stdout"
        }
      ]
    },
    {
      "cell_type": "code",
      "metadata": {
        "id": "P3WhBFVSaejT",
        "colab_type": "code",
        "outputId": "bbcb545e-7a75-47f3-e47a-028b3b46b766",
        "colab": {
          "base_uri": "https://localhost:8080/",
          "height": 68
        }
      },
      "source": [
        "confusion_matrix(y_test, RF_pred)"
      ],
      "execution_count": 0,
      "outputs": [
        {
          "output_type": "execute_result",
          "data": {
            "text/plain": [
              "array([[1146,  545,  280],\n",
              "       [ 218, 1441,  144],\n",
              "       [ 619,  646,  361]])"
            ]
          },
          "metadata": {
            "tags": []
          },
          "execution_count": 35
        }
      ]
    },
    {
      "cell_type": "markdown",
      "metadata": {
        "id": "fhV-k3MOcVR1",
        "colab_type": "text"
      },
      "source": [
        "#### ADA-boost classifier"
      ]
    },
    {
      "cell_type": "markdown",
      "metadata": {
        "id": "RtjDAoLiw8dW",
        "colab_type": "text"
      },
      "source": [
        "Not all classes seemed as easily recognised, earlier on. Especially the third class seemed to present the classifier with difficulties. We will now test the ADA-boost classifier. \n",
        "\n",
        "An AdaBoost classifier is a meta-estimator that begins by fitting a classifier on the original dataset and then fits additional copies of the classifier on the same dataset but where the weights of incorrectly classified instances are adjusted such that subsequent classifiers focus more on difficult cases.\n"
      ]
    },
    {
      "cell_type": "code",
      "metadata": {
        "id": "SIHPr7yNcUl_",
        "colab_type": "code",
        "colab": {}
      },
      "source": [
        "# Load libraries\n",
        "from sklearn.ensemble import AdaBoostClassifier\n",
        "from sklearn import datasets\n",
        "# Import train_test_split function\n",
        "from sklearn.model_selection import train_test_split\n",
        "#Import scikit-learn metrics module for accuracy calculation\n",
        "from sklearn import metrics"
      ],
      "execution_count": 0,
      "outputs": []
    },
    {
      "cell_type": "code",
      "metadata": {
        "id": "I0kA7-zocYzQ",
        "colab_type": "code",
        "colab": {}
      },
      "source": [
        "# Create adaboost classifer object\n",
        "abc = AdaBoostClassifier(n_estimators=50,\n",
        "                         learning_rate=1)\n",
        "# Train Adaboost Classifer\n",
        "model = abc.fit(x_train, y_train)\n",
        "\n",
        "#Predict the response for test dataset\n",
        "ADA_pred = model.predict(x_test)"
      ],
      "execution_count": 0,
      "outputs": []
    },
    {
      "cell_type": "code",
      "metadata": {
        "id": "37bc_ORAc00K",
        "colab_type": "code",
        "outputId": "10c5ee59-fa8f-4df8-b845-34745136d123",
        "colab": {
          "base_uri": "https://localhost:8080/",
          "height": 34
        }
      },
      "source": [
        "score = accuracy_score(y_test, ADA_pred)\n",
        "score"
      ],
      "execution_count": 0,
      "outputs": [
        {
          "output_type": "execute_result",
          "data": {
            "text/plain": [
              "0.5274074074074074"
            ]
          },
          "metadata": {
            "tags": []
          },
          "execution_count": 38
        }
      ]
    },
    {
      "cell_type": "code",
      "metadata": {
        "id": "vF9ZboXxzV2J",
        "colab_type": "code",
        "outputId": "76bd0140-cb02-4be7-aaaa-540d3f94da83",
        "colab": {
          "base_uri": "https://localhost:8080/",
          "height": 187
        }
      },
      "source": [
        "print(classification_report(y_test,ADA_pred))"
      ],
      "execution_count": 0,
      "outputs": [
        {
          "output_type": "stream",
          "text": [
            "                      precision    recall  f1-score   support\n",
            "\n",
            "               Ensis       0.58      0.53      0.56      1971\n",
            "Liocarcinus holsatus       0.56      0.72      0.63      1803\n",
            "     Ophiura ophiura       0.39      0.31      0.35      1626\n",
            "\n",
            "            accuracy                           0.53      5400\n",
            "           macro avg       0.51      0.52      0.51      5400\n",
            "        weighted avg       0.52      0.53      0.52      5400\n",
            "\n"
          ],
          "name": "stdout"
        }
      ]
    },
    {
      "cell_type": "code",
      "metadata": {
        "id": "5MxdNqMScsqQ",
        "colab_type": "code",
        "outputId": "cf900bf0-25bc-4827-e623-ee4d5bdcae56",
        "colab": {
          "base_uri": "https://localhost:8080/",
          "height": 68
        }
      },
      "source": [
        "confusion_matrix(y_test, ADA_pred)"
      ],
      "execution_count": 0,
      "outputs": [
        {
          "output_type": "execute_result",
          "data": {
            "text/plain": [
              "array([[1050,  460,  461],\n",
              "       [ 186, 1293,  324],\n",
              "       [ 566,  555,  505]])"
            ]
          },
          "metadata": {
            "tags": []
          },
          "execution_count": 40
        }
      ]
    },
    {
      "cell_type": "markdown",
      "metadata": {
        "id": "tKdMeJuMbBr-",
        "colab_type": "text"
      },
      "source": [
        "## Regression"
      ]
    },
    {
      "cell_type": "markdown",
      "metadata": {
        "id": "OTo6J0M-JMQ9",
        "colab_type": "text"
      },
      "source": [
        "### Linear Regression"
      ]
    },
    {
      "cell_type": "markdown",
      "metadata": {
        "id": "UOpNcwVscXDr",
        "colab_type": "text"
      },
      "source": [
        "We will now perform some regression techniques. Trying to predict bed abundance might be a bit of a stretch, but we can try. Perhaps the phyisco chemical characteristics might be easier. Remember how they these were quite correlated, after all."
      ]
    },
    {
      "cell_type": "markdown",
      "metadata": {
        "id": "G3H-cotjJ_U8",
        "colab_type": "text"
      },
      "source": [
        "We first create a new dataset and again define the target and create dummy variables for year and month."
      ]
    },
    {
      "cell_type": "code",
      "metadata": {
        "id": "qBsb51FxbId6",
        "colab_type": "code",
        "outputId": "aac3bba3-1736-4a27-c779-2900e09f6cf7",
        "colab": {
          "base_uri": "https://localhost:8080/",
          "height": 34
        }
      },
      "source": [
        "reg_df = class_df# pd.read_csv(url)\n",
        "\n",
        "print (\"dataset : \",reg_df.shape)"
      ],
      "execution_count": 0,
      "outputs": [
        {
          "output_type": "stream",
          "text": [
            "dataset :  (18000, 19)\n"
          ],
          "name": "stdout"
        }
      ]
    },
    {
      "cell_type": "code",
      "metadata": {
        "id": "Dhyvs9x4bKDs",
        "colab_type": "code",
        "outputId": "09f808fc-cdb8-4309-8fea-a8d8d5e6545d",
        "colab": {
          "base_uri": "https://localhost:8080/",
          "height": 68
        }
      },
      "source": [
        "target = 'BO2_curvelmax_bdmax'\n",
        "#target = 'Bedabundance'\n",
        "\n",
        "y = reg_df[target]\n",
        "\n",
        "x = reg_df.drop([target], axis=1)\n",
        "x = pd.concat([x, pd.get_dummies(reg_df['scientificname'])], axis=1)\n",
        "x = pd.concat([x, pd.get_dummies(x['yearcollected'], prefix='year_')], axis=1)\n",
        "x = pd.concat([x, pd.get_dummies(x['monthcollected'], prefix='month_')], axis=1)\n",
        "x = pd.concat([x, pd.get_dummies(x['substrate'])], axis=1)\n",
        "\n",
        "x.drop(['scientificname'], axis=1,inplace=True)\n",
        "x.drop(['datecollected'], axis=1,inplace=True)\n",
        "x.drop(['yearcollected'], axis=1,inplace=True)\n",
        "x.drop(['monthcollected'], axis=1,inplace=True)\n",
        "x.drop(['substrate'], axis=1,inplace=True)\n",
        "x.drop(['decimallatitude'], axis=1,inplace=True)\n",
        "x.drop(['decimallongitude'], axis=1,inplace=True)\n",
        "\n",
        "print (\"dataset : \",reg_df.shape)\n",
        "print (\"x : \",x.shape)\n",
        "print (\"y : \",y.shape)"
      ],
      "execution_count": 0,
      "outputs": [
        {
          "output_type": "stream",
          "text": [
            "dataset :  (18000, 19)\n",
            "x :  (18000, 41)\n",
            "y :  (18000,)\n"
          ],
          "name": "stdout"
        }
      ]
    },
    {
      "cell_type": "code",
      "metadata": {
        "id": "P2Xkcowad0Q9",
        "colab_type": "code",
        "outputId": "5d11a938-63d6-4709-9d4e-39f5ae64bdf7",
        "colab": {
          "base_uri": "https://localhost:8080/",
          "height": 34
        }
      },
      "source": [
        "from sklearn.linear_model import LinearRegression\n",
        "model = LinearRegression(fit_intercept=True)\n",
        "\n",
        "x_train, x_test, y_train, y_test = train_test_split(x,y, test_size=0.3) #0.3 data as data test\n",
        "model.fit(x_train,y_train)"
      ],
      "execution_count": 0,
      "outputs": [
        {
          "output_type": "execute_result",
          "data": {
            "text/plain": [
              "LinearRegression(copy_X=True, fit_intercept=True, n_jobs=None, normalize=False)"
            ]
          },
          "metadata": {
            "tags": []
          },
          "execution_count": 43
        }
      ]
    },
    {
      "cell_type": "code",
      "metadata": {
        "id": "OIbmp-Pie5bu",
        "colab_type": "code",
        "outputId": "3d578ec1-b9c4-4ad8-9151-4088811d432f",
        "colab": {
          "base_uri": "https://localhost:8080/",
          "height": 34
        }
      },
      "source": [
        "model.score(x_train,y_train)"
      ],
      "execution_count": 0,
      "outputs": [
        {
          "output_type": "execute_result",
          "data": {
            "text/plain": [
              "0.8813535278953175"
            ]
          },
          "metadata": {
            "tags": []
          },
          "execution_count": 44
        }
      ]
    },
    {
      "cell_type": "code",
      "metadata": {
        "id": "QcN_7cePgmhE",
        "colab_type": "code",
        "outputId": "fdded38e-9899-4815-ff5f-ae72ddc26130",
        "colab": {
          "base_uri": "https://localhost:8080/",
          "height": 301
        }
      },
      "source": [
        "plt.scatter(y_train,model.predict(x_train))\n",
        "plt.xlabel('y_train')\n",
        "plt.ylabel('prediction')"
      ],
      "execution_count": 0,
      "outputs": [
        {
          "output_type": "execute_result",
          "data": {
            "text/plain": [
              "Text(0, 0.5, 'prediction')"
            ]
          },
          "metadata": {
            "tags": []
          },
          "execution_count": 45
        },
        {
          "output_type": "display_data",
          "data": {
            "image/png": "[encoded data removed]",
            "text/plain": [
              "<Figure size 432x288 with 1 Axes>"
            ]
          },
          "metadata": {
            "tags": []
          }
        }
      ]
    },
    {
      "cell_type": "markdown",
      "metadata": {
        "id": "4azCQ_UcQQQC",
        "colab_type": "text"
      },
      "source": [
        "Here we could actually see very rudimentary domain knowledge being important when trying to estimate Bedabundance. Abundances smaller than zero dont make sense, but linear regression doesn't know that. Linear regression only knows how to try and fit lines through clouds..."
      ]
    },
    {
      "cell_type": "code",
      "metadata": {
        "id": "OQND--9ofu34",
        "colab_type": "code",
        "colab": {}
      },
      "source": [
        "output = model.predict(x_test)"
      ],
      "execution_count": 0,
      "outputs": []
    },
    {
      "cell_type": "code",
      "metadata": {
        "id": "fyZbQW_mfyXi",
        "colab_type": "code",
        "outputId": "79f26bcc-9d04-4b50-d4e8-2511dd77d44a",
        "colab": {
          "base_uri": "https://localhost:8080/",
          "height": 34
        }
      },
      "source": [
        "model.score(x_test,y_test)"
      ],
      "execution_count": 0,
      "outputs": [
        {
          "output_type": "execute_result",
          "data": {
            "text/plain": [
              "0.8912470960037642"
            ]
          },
          "metadata": {
            "tags": []
          },
          "execution_count": 47
        }
      ]
    },
    {
      "cell_type": "code",
      "metadata": {
        "id": "UG0jGW3yf4d9",
        "colab_type": "code",
        "outputId": "fd3b9a0b-17d5-4d6e-8630-bf35cc7f6679",
        "colab": {
          "base_uri": "https://localhost:8080/",
          "height": 300
        }
      },
      "source": [
        "plt.scatter(y_test,output)\n",
        "plt.xlabel('y_test')\n",
        "plt.ylabel('prediction')"
      ],
      "execution_count": 0,
      "outputs": [
        {
          "output_type": "execute_result",
          "data": {
            "text/plain": [
              "Text(0, 0.5, 'prediction')"
            ]
          },
          "metadata": {
            "tags": []
          },
          "execution_count": 48
        },
        {
          "output_type": "display_data",
          "data": {
            "image/png": "[encoded data removed]",
            "text/plain": [
              "<Figure size 432x288 with 1 Axes>"
            ]
          },
          "metadata": {
            "tags": []
          }
        }
      ]
    },
    {
      "cell_type": "markdown",
      "metadata": {
        "id": "xPziHY90OvF5",
        "colab_type": "text"
      },
      "source": [
        "### Random Forest Regression"
      ]
    },
    {
      "cell_type": "markdown",
      "metadata": {
        "id": "R47d9TMjOzYJ",
        "colab_type": "text"
      },
      "source": [
        "Similar to random forest classification, a random forest regressions creates an ensemble of different regressions. This can help when the relation isn't properly captured by the linear regression, when it is not "
      ]
    },
    {
      "cell_type": "code",
      "metadata": {
        "id": "dGSBRUJ4bDXf",
        "colab_type": "code",
        "outputId": "430a79e6-1b7a-4335-dcb5-866d96f1484a",
        "colab": {
          "base_uri": "https://localhost:8080/",
          "height": 136
        }
      },
      "source": [
        "from sklearn.ensemble import RandomForestRegressor\n",
        "RF_model = RandomForestRegressor(**parameters)\n",
        "RF_model.fit(x_train,y_train)"
      ],
      "execution_count": 0,
      "outputs": [
        {
          "output_type": "execute_result",
          "data": {
            "text/plain": [
              "RandomForestRegressor(bootstrap=True, criterion='mse', max_depth=6,\n",
              "                      max_features='sqrt', max_leaf_nodes=None,\n",
              "                      min_impurity_decrease=0.0, min_impurity_split=None,\n",
              "                      min_samples_leaf=3, min_samples_split=10,\n",
              "                      min_weight_fraction_leaf=0.0, n_estimators=50,\n",
              "                      n_jobs=None, oob_score=False, random_state=None,\n",
              "                      verbose=0, warm_start=False)"
            ]
          },
          "metadata": {
            "tags": []
          },
          "execution_count": 49
        }
      ]
    },
    {
      "cell_type": "code",
      "metadata": {
        "id": "ZCpi31i08daA",
        "colab_type": "code",
        "outputId": "af29f8d3-fa45-46fd-d689-b48e74aa1ae9",
        "colab": {
          "base_uri": "https://localhost:8080/",
          "height": 34
        }
      },
      "source": [
        "RF_model.score(x_test,y_test)"
      ],
      "execution_count": 0,
      "outputs": [
        {
          "output_type": "execute_result",
          "data": {
            "text/plain": [
              "0.9557544486033251"
            ]
          },
          "metadata": {
            "tags": []
          },
          "execution_count": 50
        }
      ]
    },
    {
      "cell_type": "code",
      "metadata": {
        "id": "wHNJPap69ACL",
        "colab_type": "code",
        "outputId": "958017ed-1ee1-4fc0-9ae6-4358db62ee12",
        "colab": {
          "base_uri": "https://localhost:8080/",
          "height": 300
        }
      },
      "source": [
        "plt.scatter(y_test,RF_model.predict(x_test))\n",
        "plt.xlabel('y_test')\n",
        "plt.ylabel('prediction')"
      ],
      "execution_count": 0,
      "outputs": [
        {
          "output_type": "execute_result",
          "data": {
            "text/plain": [
              "Text(0, 0.5, 'prediction')"
            ]
          },
          "metadata": {
            "tags": []
          },
          "execution_count": 51
        },
        {
          "output_type": "display_data",
          "data": {
            "image/png": "[encoded data removed]",
            "text/plain": [
              "<Figure size 432x288 with 1 Axes>"
            ]
          },
          "metadata": {
            "tags": []
          }
        }
      ]
    },
    {
      "cell_type": "markdown",
      "metadata": {
        "id": "_zFXWVh9JIrZ",
        "colab_type": "text"
      },
      "source": [
        "As an added bonus, Random Forest Regression allows you to get an idea about the importance of the different features that were most often used."
      ]
    },
    {
      "cell_type": "code",
      "metadata": {
        "id": "iINVIU8l9Yms",
        "colab_type": "code",
        "outputId": "01b04529-2384-49fd-c9fa-1fd465727b03",
        "colab": {
          "base_uri": "https://localhost:8080/",
          "height": 1000
        }
      },
      "source": [
        "pd.DataFrame({'Variable':x.columns,\n",
        "              'Importance':RF_model.feature_importances_}).sort_values('Importance', ascending=False)\n"
      ],
      "execution_count": 0,
      "outputs": [
        {
          "output_type": "execute_result",
          "data": {
            "text/html": [
              "<div>\n",
              "<style scoped>\n",
              "    .dataframe tbody tr th:only-of-type {\n",
              "        vertical-align: middle;\n",
              "    }\n",
              "\n",
              "    .dataframe tbody tr th {\n",
              "        vertical-align: top;\n",
              "    }\n",
              "\n",
              "    .dataframe thead th {\n",
              "        text-align: right;\n",
              "    }\n",
              "</style>\n",
              "<table border=\"1\" class=\"dataframe\">\n",
              "  <thead>\n",
              "    <tr style=\"text-align: right;\">\n",
              "      <th></th>\n",
              "      <th>Variable</th>\n",
              "      <th>Importance</th>\n",
              "    </tr>\n",
              "  </thead>\n",
              "  <tbody>\n",
              "    <tr>\n",
              "      <th>8</th>\n",
              "      <td>BO_dissox</td>\n",
              "      <td>2.715729e-01</td>\n",
              "    </tr>\n",
              "    <tr>\n",
              "      <th>3</th>\n",
              "      <td>BO_phosphate</td>\n",
              "      <td>2.204262e-01</td>\n",
              "    </tr>\n",
              "    <tr>\n",
              "      <th>4</th>\n",
              "      <td>BO_nitrate</td>\n",
              "      <td>1.422850e-01</td>\n",
              "    </tr>\n",
              "    <tr>\n",
              "      <th>7</th>\n",
              "      <td>BO_sstmean</td>\n",
              "      <td>1.118744e-01</td>\n",
              "    </tr>\n",
              "    <tr>\n",
              "      <th>5</th>\n",
              "      <td>BO_salinity</td>\n",
              "      <td>8.092014e-02</td>\n",
              "    </tr>\n",
              "    <tr>\n",
              "      <th>9</th>\n",
              "      <td>BO2_lightbotmax_bdmax</td>\n",
              "      <td>4.211891e-02</td>\n",
              "    </tr>\n",
              "    <tr>\n",
              "      <th>6</th>\n",
              "      <td>BO_sstmax</td>\n",
              "      <td>3.779603e-02</td>\n",
              "    </tr>\n",
              "    <tr>\n",
              "      <th>2</th>\n",
              "      <td>bathy</td>\n",
              "      <td>2.533595e-02</td>\n",
              "    </tr>\n",
              "    <tr>\n",
              "      <th>10</th>\n",
              "      <td>coastdist</td>\n",
              "      <td>1.720726e-02</td>\n",
              "    </tr>\n",
              "    <tr>\n",
              "      <th>1</th>\n",
              "      <td>fishing</td>\n",
              "      <td>1.658735e-02</td>\n",
              "    </tr>\n",
              "    <tr>\n",
              "      <th>39</th>\n",
              "      <td>Sandy mud</td>\n",
              "      <td>1.270148e-02</td>\n",
              "    </tr>\n",
              "    <tr>\n",
              "      <th>38</th>\n",
              "      <td>Sand</td>\n",
              "      <td>8.524709e-03</td>\n",
              "    </tr>\n",
              "    <tr>\n",
              "      <th>31</th>\n",
              "      <td>month__6</td>\n",
              "      <td>3.448242e-03</td>\n",
              "    </tr>\n",
              "    <tr>\n",
              "      <th>29</th>\n",
              "      <td>month__4</td>\n",
              "      <td>2.883425e-03</td>\n",
              "    </tr>\n",
              "    <tr>\n",
              "      <th>40</th>\n",
              "      <td>Seabed</td>\n",
              "      <td>1.730011e-03</td>\n",
              "    </tr>\n",
              "    <tr>\n",
              "      <th>30</th>\n",
              "      <td>month__5</td>\n",
              "      <td>1.385904e-03</td>\n",
              "    </tr>\n",
              "    <tr>\n",
              "      <th>35</th>\n",
              "      <td>Coarse substrate</td>\n",
              "      <td>9.181943e-04</td>\n",
              "    </tr>\n",
              "    <tr>\n",
              "      <th>0</th>\n",
              "      <td>Bedabundance</td>\n",
              "      <td>6.358276e-04</td>\n",
              "    </tr>\n",
              "    <tr>\n",
              "      <th>32</th>\n",
              "      <td>month__7</td>\n",
              "      <td>2.933041e-04</td>\n",
              "    </tr>\n",
              "    <tr>\n",
              "      <th>37</th>\n",
              "      <td>Muddy sand</td>\n",
              "      <td>2.845644e-04</td>\n",
              "    </tr>\n",
              "    <tr>\n",
              "      <th>28</th>\n",
              "      <td>month__3</td>\n",
              "      <td>2.386485e-04</td>\n",
              "    </tr>\n",
              "    <tr>\n",
              "      <th>21</th>\n",
              "      <td>year__2011</td>\n",
              "      <td>2.270888e-04</td>\n",
              "    </tr>\n",
              "    <tr>\n",
              "      <th>27</th>\n",
              "      <td>year__2017</td>\n",
              "      <td>1.173374e-04</td>\n",
              "    </tr>\n",
              "    <tr>\n",
              "      <th>13</th>\n",
              "      <td>Ophiura ophiura</td>\n",
              "      <td>1.073545e-04</td>\n",
              "    </tr>\n",
              "    <tr>\n",
              "      <th>12</th>\n",
              "      <td>Liocarcinus holsatus</td>\n",
              "      <td>6.591472e-05</td>\n",
              "    </tr>\n",
              "    <tr>\n",
              "      <th>34</th>\n",
              "      <td>month__9</td>\n",
              "      <td>4.922648e-05</td>\n",
              "    </tr>\n",
              "    <tr>\n",
              "      <th>17</th>\n",
              "      <td>year__2007</td>\n",
              "      <td>4.310042e-05</td>\n",
              "    </tr>\n",
              "    <tr>\n",
              "      <th>25</th>\n",
              "      <td>year__2015</td>\n",
              "      <td>3.918202e-05</td>\n",
              "    </tr>\n",
              "    <tr>\n",
              "      <th>33</th>\n",
              "      <td>month__8</td>\n",
              "      <td>2.654053e-05</td>\n",
              "    </tr>\n",
              "    <tr>\n",
              "      <th>24</th>\n",
              "      <td>year__2014</td>\n",
              "      <td>2.453891e-05</td>\n",
              "    </tr>\n",
              "    <tr>\n",
              "      <th>14</th>\n",
              "      <td>year__2004</td>\n",
              "      <td>2.388705e-05</td>\n",
              "    </tr>\n",
              "    <tr>\n",
              "      <th>11</th>\n",
              "      <td>Ensis</td>\n",
              "      <td>2.140795e-05</td>\n",
              "    </tr>\n",
              "    <tr>\n",
              "      <th>20</th>\n",
              "      <td>year__2010</td>\n",
              "      <td>1.557261e-05</td>\n",
              "    </tr>\n",
              "    <tr>\n",
              "      <th>26</th>\n",
              "      <td>year__2016</td>\n",
              "      <td>1.553205e-05</td>\n",
              "    </tr>\n",
              "    <tr>\n",
              "      <th>22</th>\n",
              "      <td>year__2012</td>\n",
              "      <td>1.445182e-05</td>\n",
              "    </tr>\n",
              "    <tr>\n",
              "      <th>15</th>\n",
              "      <td>year__2005</td>\n",
              "      <td>1.304749e-05</td>\n",
              "    </tr>\n",
              "    <tr>\n",
              "      <th>16</th>\n",
              "      <td>year__2006</td>\n",
              "      <td>1.237333e-05</td>\n",
              "    </tr>\n",
              "    <tr>\n",
              "      <th>18</th>\n",
              "      <td>year__2008</td>\n",
              "      <td>1.006399e-05</td>\n",
              "    </tr>\n",
              "    <tr>\n",
              "      <th>23</th>\n",
              "      <td>year__2013</td>\n",
              "      <td>4.307692e-06</td>\n",
              "    </tr>\n",
              "    <tr>\n",
              "      <th>19</th>\n",
              "      <td>year__2009</td>\n",
              "      <td>5.729521e-07</td>\n",
              "    </tr>\n",
              "    <tr>\n",
              "      <th>36</th>\n",
              "      <td>Mixed sediment</td>\n",
              "      <td>0.000000e+00</td>\n",
              "    </tr>\n",
              "  </tbody>\n",
              "</table>\n",
              "</div>"
            ],
            "text/plain": [
              "                 Variable    Importance\n",
              "8               BO_dissox  2.715729e-01\n",
              "3            BO_phosphate  2.204262e-01\n",
              "4              BO_nitrate  1.422850e-01\n",
              "7              BO_sstmean  1.118744e-01\n",
              "5             BO_salinity  8.092014e-02\n",
              "9   BO2_lightbotmax_bdmax  4.211891e-02\n",
              "6               BO_sstmax  3.779603e-02\n",
              "2                   bathy  2.533595e-02\n",
              "10              coastdist  1.720726e-02\n",
              "1                 fishing  1.658735e-02\n",
              "39              Sandy mud  1.270148e-02\n",
              "38                   Sand  8.524709e-03\n",
              "31               month__6  3.448242e-03\n",
              "29               month__4  2.883425e-03\n",
              "40                 Seabed  1.730011e-03\n",
              "30               month__5  1.385904e-03\n",
              "35       Coarse substrate  9.181943e-04\n",
              "0            Bedabundance  6.358276e-04\n",
              "32               month__7  2.933041e-04\n",
              "37             Muddy sand  2.845644e-04\n",
              "28               month__3  2.386485e-04\n",
              "21             year__2011  2.270888e-04\n",
              "27             year__2017  1.173374e-04\n",
              "13        Ophiura ophiura  1.073545e-04\n",
              "12   Liocarcinus holsatus  6.591472e-05\n",
              "34               month__9  4.922648e-05\n",
              "17             year__2007  4.310042e-05\n",
              "25             year__2015  3.918202e-05\n",
              "33               month__8  2.654053e-05\n",
              "24             year__2014  2.453891e-05\n",
              "14             year__2004  2.388705e-05\n",
              "11                  Ensis  2.140795e-05\n",
              "20             year__2010  1.557261e-05\n",
              "26             year__2016  1.553205e-05\n",
              "22             year__2012  1.445182e-05\n",
              "15             year__2005  1.304749e-05\n",
              "16             year__2006  1.237333e-05\n",
              "18             year__2008  1.006399e-05\n",
              "23             year__2013  4.307692e-06\n",
              "19             year__2009  5.729521e-07\n",
              "36         Mixed sediment  0.000000e+00"
            ]
          },
          "metadata": {
            "tags": []
          },
          "execution_count": 52
        }
      ]
    },
    {
      "cell_type": "markdown",
      "metadata": {
        "id": "HBMbE_p_PYNH",
        "colab_type": "text"
      },
      "source": [
        "### An AdaBoost regressor.\n",
        "\n",
        "Much like the AdaBoost classifier, an AdaBoost regressor is a meta-estimator that begins by fitting a regressor on the original dataset and then fits additional copies of the regressor on the same dataset but where the weights of instances are adjusted according to the error of the current prediction. As such, subsequent regressors focus more on difficult cases"
      ]
    },
    {
      "cell_type": "code",
      "metadata": {
        "id": "FYTrrtCNQDxI",
        "colab_type": "code",
        "colab": {}
      },
      "source": [
        "from sklearn.ensemble import AdaBoostRegressor"
      ],
      "execution_count": 0,
      "outputs": []
    },
    {
      "cell_type": "code",
      "metadata": {
        "id": "zxzdGcp6QFg3",
        "colab_type": "code",
        "outputId": "518cbcb0-46cb-48ee-8add-35558f124003",
        "colab": {
          "base_uri": "https://localhost:8080/",
          "height": 51
        }
      },
      "source": [
        "ADAregr = AdaBoostRegressor(random_state=0, n_estimators=100)\n",
        "ADAregr.fit(x_train, y_train) "
      ],
      "execution_count": 0,
      "outputs": [
        {
          "output_type": "execute_result",
          "data": {
            "text/plain": [
              "AdaBoostRegressor(base_estimator=None, learning_rate=1.0, loss='linear',\n",
              "                  n_estimators=100, random_state=0)"
            ]
          },
          "metadata": {
            "tags": []
          },
          "execution_count": 54
        }
      ]
    },
    {
      "cell_type": "markdown",
      "metadata": {
        "id": "S6qwQfPXJWLp",
        "colab_type": "text"
      },
      "source": [
        "Much like the Random Forest Regressor, ADAboost gives you the importances of the different features. When you compare these to the ones from the Random Forest Regressor, does anything catch your eye?"
      ]
    },
    {
      "cell_type": "code",
      "metadata": {
        "id": "7VwHSo31QFjl",
        "colab_type": "code",
        "outputId": "df55dd4c-ac74-42af-81c3-eefd1af00793",
        "colab": {
          "base_uri": "https://localhost:8080/",
          "height": 1000
        }
      },
      "source": [
        "pd.DataFrame({'Variable':x.columns,\n",
        "              'Importance':ADAregr.feature_importances_}).sort_values('Importance', ascending=False)"
      ],
      "execution_count": 0,
      "outputs": [
        {
          "output_type": "execute_result",
          "data": {
            "text/html": [
              "<div>\n",
              "<style scoped>\n",
              "    .dataframe tbody tr th:only-of-type {\n",
              "        vertical-align: middle;\n",
              "    }\n",
              "\n",
              "    .dataframe tbody tr th {\n",
              "        vertical-align: top;\n",
              "    }\n",
              "\n",
              "    .dataframe thead th {\n",
              "        text-align: right;\n",
              "    }\n",
              "</style>\n",
              "<table border=\"1\" class=\"dataframe\">\n",
              "  <thead>\n",
              "    <tr style=\"text-align: right;\">\n",
              "      <th></th>\n",
              "      <th>Variable</th>\n",
              "      <th>Importance</th>\n",
              "    </tr>\n",
              "  </thead>\n",
              "  <tbody>\n",
              "    <tr>\n",
              "      <th>8</th>\n",
              "      <td>BO_dissox</td>\n",
              "      <td>0.316386</td>\n",
              "    </tr>\n",
              "    <tr>\n",
              "      <th>3</th>\n",
              "      <td>BO_phosphate</td>\n",
              "      <td>0.253280</td>\n",
              "    </tr>\n",
              "    <tr>\n",
              "      <th>6</th>\n",
              "      <td>BO_sstmax</td>\n",
              "      <td>0.098606</td>\n",
              "    </tr>\n",
              "    <tr>\n",
              "      <th>4</th>\n",
              "      <td>BO_nitrate</td>\n",
              "      <td>0.090407</td>\n",
              "    </tr>\n",
              "    <tr>\n",
              "      <th>7</th>\n",
              "      <td>BO_sstmean</td>\n",
              "      <td>0.066976</td>\n",
              "    </tr>\n",
              "    <tr>\n",
              "      <th>9</th>\n",
              "      <td>BO2_lightbotmax_bdmax</td>\n",
              "      <td>0.065401</td>\n",
              "    </tr>\n",
              "    <tr>\n",
              "      <th>5</th>\n",
              "      <td>BO_salinity</td>\n",
              "      <td>0.044901</td>\n",
              "    </tr>\n",
              "    <tr>\n",
              "      <th>10</th>\n",
              "      <td>coastdist</td>\n",
              "      <td>0.030864</td>\n",
              "    </tr>\n",
              "    <tr>\n",
              "      <th>2</th>\n",
              "      <td>bathy</td>\n",
              "      <td>0.026377</td>\n",
              "    </tr>\n",
              "    <tr>\n",
              "      <th>40</th>\n",
              "      <td>Seabed</td>\n",
              "      <td>0.003645</td>\n",
              "    </tr>\n",
              "    <tr>\n",
              "      <th>1</th>\n",
              "      <td>fishing</td>\n",
              "      <td>0.003156</td>\n",
              "    </tr>\n",
              "    <tr>\n",
              "      <th>33</th>\n",
              "      <td>month__8</td>\n",
              "      <td>0.000000</td>\n",
              "    </tr>\n",
              "    <tr>\n",
              "      <th>28</th>\n",
              "      <td>month__3</td>\n",
              "      <td>0.000000</td>\n",
              "    </tr>\n",
              "    <tr>\n",
              "      <th>29</th>\n",
              "      <td>month__4</td>\n",
              "      <td>0.000000</td>\n",
              "    </tr>\n",
              "    <tr>\n",
              "      <th>30</th>\n",
              "      <td>month__5</td>\n",
              "      <td>0.000000</td>\n",
              "    </tr>\n",
              "    <tr>\n",
              "      <th>31</th>\n",
              "      <td>month__6</td>\n",
              "      <td>0.000000</td>\n",
              "    </tr>\n",
              "    <tr>\n",
              "      <th>32</th>\n",
              "      <td>month__7</td>\n",
              "      <td>0.000000</td>\n",
              "    </tr>\n",
              "    <tr>\n",
              "      <th>38</th>\n",
              "      <td>Sand</td>\n",
              "      <td>0.000000</td>\n",
              "    </tr>\n",
              "    <tr>\n",
              "      <th>34</th>\n",
              "      <td>month__9</td>\n",
              "      <td>0.000000</td>\n",
              "    </tr>\n",
              "    <tr>\n",
              "      <th>35</th>\n",
              "      <td>Coarse substrate</td>\n",
              "      <td>0.000000</td>\n",
              "    </tr>\n",
              "    <tr>\n",
              "      <th>36</th>\n",
              "      <td>Mixed sediment</td>\n",
              "      <td>0.000000</td>\n",
              "    </tr>\n",
              "    <tr>\n",
              "      <th>37</th>\n",
              "      <td>Muddy sand</td>\n",
              "      <td>0.000000</td>\n",
              "    </tr>\n",
              "    <tr>\n",
              "      <th>26</th>\n",
              "      <td>year__2016</td>\n",
              "      <td>0.000000</td>\n",
              "    </tr>\n",
              "    <tr>\n",
              "      <th>39</th>\n",
              "      <td>Sandy mud</td>\n",
              "      <td>0.000000</td>\n",
              "    </tr>\n",
              "    <tr>\n",
              "      <th>27</th>\n",
              "      <td>year__2017</td>\n",
              "      <td>0.000000</td>\n",
              "    </tr>\n",
              "    <tr>\n",
              "      <th>0</th>\n",
              "      <td>Bedabundance</td>\n",
              "      <td>0.000000</td>\n",
              "    </tr>\n",
              "    <tr>\n",
              "      <th>25</th>\n",
              "      <td>year__2015</td>\n",
              "      <td>0.000000</td>\n",
              "    </tr>\n",
              "    <tr>\n",
              "      <th>24</th>\n",
              "      <td>year__2014</td>\n",
              "      <td>0.000000</td>\n",
              "    </tr>\n",
              "    <tr>\n",
              "      <th>23</th>\n",
              "      <td>year__2013</td>\n",
              "      <td>0.000000</td>\n",
              "    </tr>\n",
              "    <tr>\n",
              "      <th>22</th>\n",
              "      <td>year__2012</td>\n",
              "      <td>0.000000</td>\n",
              "    </tr>\n",
              "    <tr>\n",
              "      <th>21</th>\n",
              "      <td>year__2011</td>\n",
              "      <td>0.000000</td>\n",
              "    </tr>\n",
              "    <tr>\n",
              "      <th>19</th>\n",
              "      <td>year__2009</td>\n",
              "      <td>0.000000</td>\n",
              "    </tr>\n",
              "    <tr>\n",
              "      <th>18</th>\n",
              "      <td>year__2008</td>\n",
              "      <td>0.000000</td>\n",
              "    </tr>\n",
              "    <tr>\n",
              "      <th>17</th>\n",
              "      <td>year__2007</td>\n",
              "      <td>0.000000</td>\n",
              "    </tr>\n",
              "    <tr>\n",
              "      <th>16</th>\n",
              "      <td>year__2006</td>\n",
              "      <td>0.000000</td>\n",
              "    </tr>\n",
              "    <tr>\n",
              "      <th>15</th>\n",
              "      <td>year__2005</td>\n",
              "      <td>0.000000</td>\n",
              "    </tr>\n",
              "    <tr>\n",
              "      <th>14</th>\n",
              "      <td>year__2004</td>\n",
              "      <td>0.000000</td>\n",
              "    </tr>\n",
              "    <tr>\n",
              "      <th>13</th>\n",
              "      <td>Ophiura ophiura</td>\n",
              "      <td>0.000000</td>\n",
              "    </tr>\n",
              "    <tr>\n",
              "      <th>12</th>\n",
              "      <td>Liocarcinus holsatus</td>\n",
              "      <td>0.000000</td>\n",
              "    </tr>\n",
              "    <tr>\n",
              "      <th>11</th>\n",
              "      <td>Ensis</td>\n",
              "      <td>0.000000</td>\n",
              "    </tr>\n",
              "    <tr>\n",
              "      <th>20</th>\n",
              "      <td>year__2010</td>\n",
              "      <td>0.000000</td>\n",
              "    </tr>\n",
              "  </tbody>\n",
              "</table>\n",
              "</div>"
            ],
            "text/plain": [
              "                 Variable  Importance\n",
              "8               BO_dissox    0.316386\n",
              "3            BO_phosphate    0.253280\n",
              "6               BO_sstmax    0.098606\n",
              "4              BO_nitrate    0.090407\n",
              "7              BO_sstmean    0.066976\n",
              "9   BO2_lightbotmax_bdmax    0.065401\n",
              "5             BO_salinity    0.044901\n",
              "10              coastdist    0.030864\n",
              "2                   bathy    0.026377\n",
              "40                 Seabed    0.003645\n",
              "1                 fishing    0.003156\n",
              "33               month__8    0.000000\n",
              "28               month__3    0.000000\n",
              "29               month__4    0.000000\n",
              "30               month__5    0.000000\n",
              "31               month__6    0.000000\n",
              "32               month__7    0.000000\n",
              "38                   Sand    0.000000\n",
              "34               month__9    0.000000\n",
              "35       Coarse substrate    0.000000\n",
              "36         Mixed sediment    0.000000\n",
              "37             Muddy sand    0.000000\n",
              "26             year__2016    0.000000\n",
              "39              Sandy mud    0.000000\n",
              "27             year__2017    0.000000\n",
              "0            Bedabundance    0.000000\n",
              "25             year__2015    0.000000\n",
              "24             year__2014    0.000000\n",
              "23             year__2013    0.000000\n",
              "22             year__2012    0.000000\n",
              "21             year__2011    0.000000\n",
              "19             year__2009    0.000000\n",
              "18             year__2008    0.000000\n",
              "17             year__2007    0.000000\n",
              "16             year__2006    0.000000\n",
              "15             year__2005    0.000000\n",
              "14             year__2004    0.000000\n",
              "13        Ophiura ophiura    0.000000\n",
              "12   Liocarcinus holsatus    0.000000\n",
              "11                  Ensis    0.000000\n",
              "20             year__2010    0.000000"
            ]
          },
          "metadata": {
            "tags": []
          },
          "execution_count": 61
        }
      ]
    },
    {
      "cell_type": "code",
      "metadata": {
        "id": "-NyqCHnJSL05",
        "colab_type": "code",
        "outputId": "470bb42b-91c4-4022-979b-8f61fd5c2286",
        "colab": {
          "base_uri": "https://localhost:8080/",
          "height": 34
        }
      },
      "source": [
        "ADAregr_pred = ADAregr.predict(x_test)  \n",
        "ADAregr.score(x_test, y_test)"
      ],
      "execution_count": 0,
      "outputs": [
        {
          "output_type": "execute_result",
          "data": {
            "text/plain": [
              "0.9134187702357311"
            ]
          },
          "metadata": {
            "tags": []
          },
          "execution_count": 59
        }
      ]
    },
    {
      "cell_type": "code",
      "metadata": {
        "id": "7MEY5fKnQFmU",
        "colab_type": "code",
        "outputId": "d6f35061-fc39-4f7d-e495-af64af0e279e",
        "colab": {
          "base_uri": "https://localhost:8080/",
          "height": 300
        }
      },
      "source": [
        "plt.scatter(y_test,ADAregr_pred)\n",
        "plt.xlabel('y_test')\n",
        "plt.ylabel('prediction')"
      ],
      "execution_count": 0,
      "outputs": [
        {
          "output_type": "execute_result",
          "data": {
            "text/plain": [
              "Text(0, 0.5, 'prediction')"
            ]
          },
          "metadata": {
            "tags": []
          },
          "execution_count": 56
        },
        {
          "output_type": "display_data",
          "data": {
            "image/png": "[encoded data removed]",
            "text/plain": [
              "<Figure size 432x288 with 1 Axes>"
            ]
          },
          "metadata": {
            "tags": []
          }
        }
      ]
    },
    {
      "cell_type": "markdown",
      "metadata": {
        "id": "-r57EwK1Tr1q",
        "colab_type": "text"
      },
      "source": [
        "## Appendix"
      ]
    },
    {
      "cell_type": "markdown",
      "metadata": {
        "id": "SrQPbTeoBkTL",
        "colab_type": "text"
      },
      "source": [
        "## Better correlation plot helper functions"
      ]
    },
    {
      "cell_type": "markdown",
      "metadata": {
        "id": "2quDA-CN0ymX",
        "colab_type": "text"
      },
      "source": [
        "The standard correlation plot is rather hard to parse. Let's make a prettier one!"
      ]
    },
    {
      "cell_type": "code",
      "metadata": {
        "id": "tZO7tHpQ1xLe",
        "colab_type": "code",
        "colab": {}
      },
      "source": [
        "# Better correlation plot\n",
        "from matplotlib import pyplot as plt\n",
        "import pandas as pd\n",
        "import seaborn as sns\n",
        "import numpy as np\n",
        "\n",
        "\n",
        "def heatmap(x, y, **kwargs):\n",
        "    if 'color' in kwargs:\n",
        "        color = kwargs['color']\n",
        "    else:\n",
        "        color = [1]*len(x)\n",
        "\n",
        "    if 'palette' in kwargs:\n",
        "        palette = kwargs['palette']\n",
        "        n_colors = len(palette)\n",
        "    else:\n",
        "        n_colors = 256 # Use 256 colors for the diverging color palette\n",
        "        palette = sns.color_palette(\"Blues\", n_colors) \n",
        "\n",
        "    if 'color_range' in kwargs:\n",
        "        color_min, color_max = kwargs['color_range']\n",
        "    else:\n",
        "        color_min, color_max = min(color), max(color) # Range of values that will be mapped to the palette, i.e. min and max possible correlation\n",
        "\n",
        "    def value_to_color(val):\n",
        "        if color_min == color_max:\n",
        "            return palette[-1]\n",
        "        else:\n",
        "            val_position = float((val - color_min)) / (color_max - color_min) # position of value in the input range, relative to the length of the input range\n",
        "            val_position = min(max(val_position, 0), 1) # bound the position betwen 0 and 1\n",
        "            ind = int(val_position * (n_colors - 1)) # target index in the color palette\n",
        "            return palette[ind]\n",
        "\n",
        "    if 'size' in kwargs:\n",
        "        size = kwargs['size']\n",
        "    else:\n",
        "        size = [1]*len(x)\n",
        "\n",
        "    if 'size_range' in kwargs:\n",
        "        size_min, size_max = kwargs['size_range'][0], kwargs['size_range'][1]\n",
        "    else:\n",
        "        size_min, size_max = min(size), max(size)\n",
        "\n",
        "    size_scale = kwargs.get('size_scale', 500)\n",
        "\n",
        "    def value_to_size(val):\n",
        "        if size_min == size_max:\n",
        "            return 1 * size_scale\n",
        "        else:\n",
        "            val_position = (val - size_min) * 0.99 / (size_max - size_min) + 0.01 # position of value in the input range, relative to the length of the input range\n",
        "            val_position = min(max(val_position, 0), 1) # bound the position betwen 0 and 1\n",
        "            return val_position * size_scale\n",
        "    if 'x_order' in kwargs: \n",
        "        x_names = [t for t in kwargs['x_order']]\n",
        "    else:\n",
        "        x_names = [t for t in sorted(set([v for v in x]))]\n",
        "    x_to_num = {p[1]:p[0] for p in enumerate(x_names)}\n",
        "\n",
        "    if 'y_order' in kwargs: \n",
        "        y_names = [t for t in kwargs['y_order']]\n",
        "    else:\n",
        "        y_names = [t for t in sorted(set([v for v in y]))]\n",
        "    y_to_num = {p[1]:p[0] for p in enumerate(y_names)}\n",
        "\n",
        "    plot_grid = plt.GridSpec(1, 15, hspace=0.2, wspace=0.1) # Setup a 1x10 grid\n",
        "    ax = plt.subplot(plot_grid[:,:-1]) # Use the left 14/15ths of the grid for the main plot\n",
        "\n",
        "    marker = kwargs.get('marker', 's')\n",
        "\n",
        "    kwargs_pass_on = {k:v for k,v in kwargs.items() if k not in [\n",
        "         'color', 'palette', 'color_range', 'size', 'size_range', 'size_scale', 'marker', 'x_order', 'y_order'\n",
        "    ]}\n",
        "\n",
        "    ax.scatter(\n",
        "        x=[x_to_num[v] for v in x],\n",
        "        y=[y_to_num[v] for v in y],\n",
        "        marker=marker,\n",
        "        s=[value_to_size(v) for v in size], \n",
        "        c=[value_to_color(v) for v in color],\n",
        "        **kwargs_pass_on\n",
        "    )\n",
        "    ax.set_xticks([v for k,v in x_to_num.items()])\n",
        "    ax.set_xticklabels([k for k in x_to_num], rotation=45, horizontalalignment='right')\n",
        "    ax.set_yticks([v for k,v in y_to_num.items()])\n",
        "    ax.set_yticklabels([k for k in y_to_num])\n",
        "\n",
        "    ax.grid(False, 'major')\n",
        "    ax.grid(True, 'minor')\n",
        "    ax.set_xticks([t + 0.5 for t in ax.get_xticks()], minor=True)\n",
        "    ax.set_yticks([t + 0.5 for t in ax.get_yticks()], minor=True)\n",
        "\n",
        "    ax.set_xlim([-0.5, max([v for v in x_to_num.values()]) + 0.5])\n",
        "    ax.set_ylim([-0.5, max([v for v in y_to_num.values()]) + 0.5])\n",
        "    ax.set_facecolor('#F1F1F1')\n",
        "\n",
        "    # Add color legend on the right side of the plot\n",
        "    if color_min < color_max:\n",
        "        ax = plt.subplot(plot_grid[:,-1]) # Use the rightmost column of the plot\n",
        "\n",
        "        col_x = [0]*len(palette) # Fixed x coordinate for the bars\n",
        "        bar_y=np.linspace(color_min, color_max, n_colors) # y coordinates for each of the n_colors bars\n",
        "\n",
        "        bar_height = bar_y[1] - bar_y[0]\n",
        "        ax.barh(\n",
        "            y=bar_y,\n",
        "            width=[5]*len(palette), # Make bars 5 units wide\n",
        "            left=col_x, # Make bars start at 0\n",
        "            height=bar_height,\n",
        "            color=palette,\n",
        "            linewidth=0\n",
        "        )\n",
        "        ax.set_xlim(1, 2) # Bars are going from 0 to 5, so lets crop the plot somewhere in the middle\n",
        "        ax.grid(False) # Hide grid\n",
        "        ax.set_facecolor('white') # Make background white\n",
        "        ax.set_xticks([]) # Remove horizontal ticks\n",
        "        ax.set_yticks(np.linspace(min(bar_y), max(bar_y), 3)) # Show vertical ticks for min, middle and max\n",
        "        ax.yaxis.tick_right() # Show vertical ticks on the right \n",
        "\n",
        "\n",
        "def corrplot(data, size_scale=500, marker='s'):\n",
        "    corr = pd.melt(data.reset_index(), id_vars='index')\n",
        "    corr.columns = ['x', 'y', 'value']\n",
        "    heatmap(\n",
        "        corr['x'], corr['y'],\n",
        "        color=corr['value'], color_range=[-1, 1],\n",
        "        palette=sns.diverging_palette(20, 220, n=256),\n",
        "        size=corr['value'].abs(), size_range=[0,1],\n",
        "        marker=marker,\n",
        "        x_order=data.columns,\n",
        "        y_order=data.columns[::-1],\n",
        "        size_scale=size_scale\n",
        "    )\n"
      ],
      "execution_count": 0,
      "outputs": []
    },
    {
      "cell_type": "code",
      "metadata": {
        "id": "khl7Tf2l14qs",
        "colab_type": "code",
        "outputId": "ba44719e-05cb-4145-fd51-9fa664fb931b",
        "colab": {
          "base_uri": "https://localhost:8080/",
          "height": 681
        }
      },
      "source": [
        "plt.figure(figsize=(10, 10))\n",
        "corrplot(corr)"
      ],
      "execution_count": 0,
      "outputs": [
        {
          "output_type": "display_data",
          "data": {
            "image/png": "[encoded data removed]",
            "text/plain": [
              "<Figure size 720x720 with 2 Axes>"
            ]
          },
          "metadata": {
            "tags": []
          }
        }
      ]
    },
    {
      "cell_type": "code",
      "metadata": {
        "id": "vDITcsODjpEs",
        "colab_type": "code",
        "colab": {}
      },
      "source": [
        ""
      ],
      "execution_count": 0,
      "outputs": []
    },
    {
      "cell_type": "markdown",
      "metadata": {
        "id": "pa56VB53TvvR",
        "colab_type": "text"
      },
      "source": [
        "## Make a fake regression dataset"
      ]
    },
    {
      "cell_type": "markdown",
      "metadata": {
        "id": "DIUdftZ-YUTi",
        "colab_type": "text"
      },
      "source": [
        "Let's make a fake data set to play around with and compare the performance of the different regressors.\n",
        "\n",
        "Handily, `sklearn` has the tools needed to make this a breeze."
      ]
    },
    {
      "cell_type": "code",
      "metadata": {
        "id": "hVY1yx_1T1Kp",
        "colab_type": "code",
        "colab": {}
      },
      "source": [
        "from sklearn.datasets import make_regression\n",
        "\n",
        "x_constructed, y_constructed = make_regression(n_features=10, n_informative=4, random_state=0, shuffle=False, noise=1.0)"
      ],
      "execution_count": 0,
      "outputs": []
    },
    {
      "cell_type": "code",
      "metadata": {
        "id": "1dq_4_l-Uu3Z",
        "colab_type": "code",
        "colab": {}
      },
      "source": [
        "constructed_data = [x_constructed, y_constructed]\n",
        "constructed_df = pd.DataFrame(x_constructed,columns=['ind1','ind2','ind3','ind4','ind5','ind6','ind7','ind8','ind9','ind10'])\n",
        "constructed_df['target'] = y_constructed"
      ],
      "execution_count": 0,
      "outputs": []
    },
    {
      "cell_type": "code",
      "metadata": {
        "id": "diSi8Ae_U6YC",
        "colab_type": "code",
        "outputId": "6deb30d5-3585-4e05-cb45-5d60f2e36977",
        "colab": {
          "base_uri": "https://localhost:8080/",
          "height": 204
        }
      },
      "source": [
        "constructed_df.head()"
      ],
      "execution_count": 0,
      "outputs": [
        {
          "output_type": "execute_result",
          "data": {
            "text/html": [
              "<div>\n",
              "<style scoped>\n",
              "    .dataframe tbody tr th:only-of-type {\n",
              "        vertical-align: middle;\n",
              "    }\n",
              "\n",
              "    .dataframe tbody tr th {\n",
              "        vertical-align: top;\n",
              "    }\n",
              "\n",
              "    .dataframe thead th {\n",
              "        text-align: right;\n",
              "    }\n",
              "</style>\n",
              "<table border=\"1\" class=\"dataframe\">\n",
              "  <thead>\n",
              "    <tr style=\"text-align: right;\">\n",
              "      <th></th>\n",
              "      <th>ind1</th>\n",
              "      <th>ind2</th>\n",
              "      <th>ind3</th>\n",
              "      <th>ind4</th>\n",
              "      <th>ind5</th>\n",
              "      <th>ind6</th>\n",
              "      <th>ind7</th>\n",
              "      <th>ind8</th>\n",
              "      <th>ind9</th>\n",
              "      <th>ind10</th>\n",
              "      <th>target</th>\n",
              "    </tr>\n",
              "  </thead>\n",
              "  <tbody>\n",
              "    <tr>\n",
              "      <th>0</th>\n",
              "      <td>1.764052</td>\n",
              "      <td>0.400157</td>\n",
              "      <td>0.978738</td>\n",
              "      <td>2.240893</td>\n",
              "      <td>1.867558</td>\n",
              "      <td>-0.977278</td>\n",
              "      <td>0.950088</td>\n",
              "      <td>-0.151357</td>\n",
              "      <td>-0.103219</td>\n",
              "      <td>0.410599</td>\n",
              "      <td>475.627312</td>\n",
              "    </tr>\n",
              "    <tr>\n",
              "      <th>1</th>\n",
              "      <td>0.144044</td>\n",
              "      <td>1.454274</td>\n",
              "      <td>0.761038</td>\n",
              "      <td>0.121675</td>\n",
              "      <td>0.443863</td>\n",
              "      <td>0.333674</td>\n",
              "      <td>1.494079</td>\n",
              "      <td>-0.205158</td>\n",
              "      <td>0.313068</td>\n",
              "      <td>-0.854096</td>\n",
              "      <td>192.786074</td>\n",
              "    </tr>\n",
              "    <tr>\n",
              "      <th>2</th>\n",
              "      <td>-2.552990</td>\n",
              "      <td>0.653619</td>\n",
              "      <td>0.864436</td>\n",
              "      <td>-0.742165</td>\n",
              "      <td>2.269755</td>\n",
              "      <td>-1.454366</td>\n",
              "      <td>0.045759</td>\n",
              "      <td>-0.187184</td>\n",
              "      <td>1.532779</td>\n",
              "      <td>1.469359</td>\n",
              "      <td>-159.214723</td>\n",
              "    </tr>\n",
              "    <tr>\n",
              "      <th>3</th>\n",
              "      <td>0.154947</td>\n",
              "      <td>0.378163</td>\n",
              "      <td>-0.887786</td>\n",
              "      <td>-1.980796</td>\n",
              "      <td>-0.347912</td>\n",
              "      <td>0.156349</td>\n",
              "      <td>1.230291</td>\n",
              "      <td>1.202380</td>\n",
              "      <td>-0.387327</td>\n",
              "      <td>-0.302303</td>\n",
              "      <td>-230.429190</td>\n",
              "    </tr>\n",
              "    <tr>\n",
              "      <th>4</th>\n",
              "      <td>-1.048553</td>\n",
              "      <td>-1.420018</td>\n",
              "      <td>-1.706270</td>\n",
              "      <td>1.950775</td>\n",
              "      <td>-0.509652</td>\n",
              "      <td>-0.438074</td>\n",
              "      <td>-1.252795</td>\n",
              "      <td>0.777490</td>\n",
              "      <td>-1.613898</td>\n",
              "      <td>-0.212740</td>\n",
              "      <td>-147.236330</td>\n",
              "    </tr>\n",
              "  </tbody>\n",
              "</table>\n",
              "</div>"
            ],
            "text/plain": [
              "       ind1      ind2      ind3  ...      ind9     ind10      target\n",
              "0  1.764052  0.400157  0.978738  ... -0.103219  0.410599  475.627312\n",
              "1  0.144044  1.454274  0.761038  ...  0.313068 -0.854096  192.786074\n",
              "2 -2.552990  0.653619  0.864436  ...  1.532779  1.469359 -159.214723\n",
              "3  0.154947  0.378163 -0.887786  ... -0.387327 -0.302303 -230.429190\n",
              "4 -1.048553 -1.420018 -1.706270  ... -1.613898 -0.212740 -147.236330\n",
              "\n",
              "[5 rows x 11 columns]"
            ]
          },
          "metadata": {
            "tags": []
          },
          "execution_count": 106
        }
      ]
    },
    {
      "cell_type": "code",
      "metadata": {
        "id": "CWewlBGQUHQq",
        "colab_type": "code",
        "outputId": "5f675dbc-b234-413e-997a-0800ad2f2391",
        "colab": {
          "base_uri": "https://localhost:8080/",
          "height": 614
        }
      },
      "source": [
        "plt.figure(figsize=(10, 10))\n",
        "corrplot(constructed_df.corr())"
      ],
      "execution_count": 0,
      "outputs": [
        {
          "output_type": "display_data",
          "data": {
            "image/png": "[encoded data removed]",
            "text/plain": [
              "<Figure size 720x720 with 2 Axes>"
            ]
          },
          "metadata": {
            "tags": []
          }
        }
      ]
    },
    {
      "cell_type": "markdown",
      "metadata": {
        "id": "AVJ2_ju_YmcS",
        "colab_type": "text"
      },
      "source": [
        "Let's create some test and training sets by splitting the constructed set."
      ]
    },
    {
      "cell_type": "code",
      "metadata": {
        "id": "RYL5STpjYFop",
        "colab_type": "code",
        "colab": {}
      },
      "source": [
        "x_c_train, x_c_test, y_c_train, y_c_test = train_test_split(x,y, test_size=0.3) #0.3 data as data test"
      ],
      "execution_count": 0,
      "outputs": []
    },
    {
      "cell_type": "markdown",
      "metadata": {
        "id": "rKVsChvBYxnl",
        "colab_type": "text"
      },
      "source": [
        "Back to you to test the regressors we already played around with before."
      ]
    },
    {
      "cell_type": "markdown",
      "metadata": {
        "id": "NOVQGb9uJqVz",
        "colab_type": "text"
      },
      "source": [
        "# This concludes my part of the notebook. \n",
        "Go forth and extend!"
      ]
    },
    {
      "cell_type": "code",
      "metadata": {
        "id": "lPjrFMoDJxfn",
        "colab_type": "code",
        "colab": {}
      },
      "source": [
        ""
      ],
      "execution_count": 0,
      "outputs": []
    }
  ]
}